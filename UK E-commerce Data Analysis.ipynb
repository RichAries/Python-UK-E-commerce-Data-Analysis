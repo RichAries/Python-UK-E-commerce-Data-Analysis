{
 "cells": [
  {
   "cell_type": "code",
   "execution_count": 2,
   "id": "e86d5576",
   "metadata": {},
   "outputs": [],
   "source": [
    "import pandas as pd\n",
    "import numpy as np"
   ]
  },
  {
   "cell_type": "code",
   "execution_count": 3,
   "id": "11146581",
   "metadata": {},
   "outputs": [
    {
     "name": "stdout",
     "output_type": "stream",
     "text": [
      "Dataframe dimensions: (541909, 8)\n"
     ]
    }
   ],
   "source": [
    "df_initial = pd.read_csv(\"data.csv\",encoding='latin1')\n",
    "print('Dataframe dimensions:', df_initial.shape)"
   ]
  },
  {
   "cell_type": "code",
   "execution_count": 4,
   "id": "3ebda9e4",
   "metadata": {
    "scrolled": true
   },
   "outputs": [
    {
     "data": {
      "text/html": [
       "<div>\n",
       "<style scoped>\n",
       "    .dataframe tbody tr th:only-of-type {\n",
       "        vertical-align: middle;\n",
       "    }\n",
       "\n",
       "    .dataframe tbody tr th {\n",
       "        vertical-align: top;\n",
       "    }\n",
       "\n",
       "    .dataframe thead th {\n",
       "        text-align: right;\n",
       "    }\n",
       "</style>\n",
       "<table border=\"1\" class=\"dataframe\">\n",
       "  <thead>\n",
       "    <tr style=\"text-align: right;\">\n",
       "      <th></th>\n",
       "      <th>InvoiceNo</th>\n",
       "      <th>StockCode</th>\n",
       "      <th>Description</th>\n",
       "      <th>Quantity</th>\n",
       "      <th>InvoiceDate</th>\n",
       "      <th>UnitPrice</th>\n",
       "      <th>CustomerID</th>\n",
       "      <th>Country</th>\n",
       "    </tr>\n",
       "  </thead>\n",
       "  <tbody>\n",
       "    <tr>\n",
       "      <th>0</th>\n",
       "      <td>536365</td>\n",
       "      <td>85123A</td>\n",
       "      <td>WHITE HANGING HEART T-LIGHT HOLDER</td>\n",
       "      <td>6</td>\n",
       "      <td>12/1/2010 8:26</td>\n",
       "      <td>2.55</td>\n",
       "      <td>17850.0</td>\n",
       "      <td>United Kingdom</td>\n",
       "    </tr>\n",
       "    <tr>\n",
       "      <th>1</th>\n",
       "      <td>536365</td>\n",
       "      <td>71053</td>\n",
       "      <td>WHITE METAL LANTERN</td>\n",
       "      <td>6</td>\n",
       "      <td>12/1/2010 8:26</td>\n",
       "      <td>3.39</td>\n",
       "      <td>17850.0</td>\n",
       "      <td>United Kingdom</td>\n",
       "    </tr>\n",
       "    <tr>\n",
       "      <th>2</th>\n",
       "      <td>536365</td>\n",
       "      <td>84406B</td>\n",
       "      <td>CREAM CUPID HEARTS COAT HANGER</td>\n",
       "      <td>8</td>\n",
       "      <td>12/1/2010 8:26</td>\n",
       "      <td>2.75</td>\n",
       "      <td>17850.0</td>\n",
       "      <td>United Kingdom</td>\n",
       "    </tr>\n",
       "    <tr>\n",
       "      <th>3</th>\n",
       "      <td>536365</td>\n",
       "      <td>84029G</td>\n",
       "      <td>KNITTED UNION FLAG HOT WATER BOTTLE</td>\n",
       "      <td>6</td>\n",
       "      <td>12/1/2010 8:26</td>\n",
       "      <td>3.39</td>\n",
       "      <td>17850.0</td>\n",
       "      <td>United Kingdom</td>\n",
       "    </tr>\n",
       "    <tr>\n",
       "      <th>4</th>\n",
       "      <td>536365</td>\n",
       "      <td>84029E</td>\n",
       "      <td>RED WOOLLY HOTTIE WHITE HEART.</td>\n",
       "      <td>6</td>\n",
       "      <td>12/1/2010 8:26</td>\n",
       "      <td>3.39</td>\n",
       "      <td>17850.0</td>\n",
       "      <td>United Kingdom</td>\n",
       "    </tr>\n",
       "  </tbody>\n",
       "</table>\n",
       "</div>"
      ],
      "text/plain": [
       "  InvoiceNo StockCode                          Description  Quantity  \\\n",
       "0    536365    85123A   WHITE HANGING HEART T-LIGHT HOLDER         6   \n",
       "1    536365     71053                  WHITE METAL LANTERN         6   \n",
       "2    536365    84406B       CREAM CUPID HEARTS COAT HANGER         8   \n",
       "3    536365    84029G  KNITTED UNION FLAG HOT WATER BOTTLE         6   \n",
       "4    536365    84029E       RED WOOLLY HOTTIE WHITE HEART.         6   \n",
       "\n",
       "      InvoiceDate  UnitPrice  CustomerID         Country  \n",
       "0  12/1/2010 8:26       2.55     17850.0  United Kingdom  \n",
       "1  12/1/2010 8:26       3.39     17850.0  United Kingdom  \n",
       "2  12/1/2010 8:26       2.75     17850.0  United Kingdom  \n",
       "3  12/1/2010 8:26       3.39     17850.0  United Kingdom  \n",
       "4  12/1/2010 8:26       3.39     17850.0  United Kingdom  "
      ]
     },
     "execution_count": 4,
     "metadata": {},
     "output_type": "execute_result"
    }
   ],
   "source": [
    "df_initial.head()\n"
   ]
  },
  {
   "cell_type": "markdown",
   "id": "89bd3463",
   "metadata": {},
   "source": [
    "## 1. Data Cleaning"
   ]
  },
  {
   "cell_type": "markdown",
   "id": "622fb6e8",
   "metadata": {},
   "source": [
    "### 1.1 Handling Missing Value"
   ]
  },
  {
   "cell_type": "code",
   "execution_count": 5,
   "id": "a7729720",
   "metadata": {
    "scrolled": true
   },
   "outputs": [
    {
     "data": {
      "text/html": [
       "<div>\n",
       "<style scoped>\n",
       "    .dataframe tbody tr th:only-of-type {\n",
       "        vertical-align: middle;\n",
       "    }\n",
       "\n",
       "    .dataframe tbody tr th {\n",
       "        vertical-align: top;\n",
       "    }\n",
       "\n",
       "    .dataframe thead th {\n",
       "        text-align: right;\n",
       "    }\n",
       "</style>\n",
       "<table border=\"1\" class=\"dataframe\">\n",
       "  <thead>\n",
       "    <tr style=\"text-align: right;\">\n",
       "      <th></th>\n",
       "      <th>InvoiceNo</th>\n",
       "      <th>StockCode</th>\n",
       "      <th>Description</th>\n",
       "      <th>Quantity</th>\n",
       "      <th>InvoiceDate</th>\n",
       "      <th>UnitPrice</th>\n",
       "      <th>CustomerID</th>\n",
       "      <th>Country</th>\n",
       "    </tr>\n",
       "  </thead>\n",
       "  <tbody>\n",
       "    <tr>\n",
       "      <th>Type</th>\n",
       "      <td>object</td>\n",
       "      <td>object</td>\n",
       "      <td>object</td>\n",
       "      <td>int64</td>\n",
       "      <td>object</td>\n",
       "      <td>float64</td>\n",
       "      <td>float64</td>\n",
       "      <td>object</td>\n",
       "    </tr>\n",
       "    <tr>\n",
       "      <th>The Amount of Missing Values</th>\n",
       "      <td>0</td>\n",
       "      <td>0</td>\n",
       "      <td>1454</td>\n",
       "      <td>0</td>\n",
       "      <td>0</td>\n",
       "      <td>0</td>\n",
       "      <td>135080</td>\n",
       "      <td>0</td>\n",
       "    </tr>\n",
       "    <tr>\n",
       "      <th>Ratio of Missing Values</th>\n",
       "      <td>0.0</td>\n",
       "      <td>0.0</td>\n",
       "      <td>0.268311</td>\n",
       "      <td>0.0</td>\n",
       "      <td>0.0</td>\n",
       "      <td>0.0</td>\n",
       "      <td>24.926694</td>\n",
       "      <td>0.0</td>\n",
       "    </tr>\n",
       "  </tbody>\n",
       "</table>\n",
       "</div>"
      ],
      "text/plain": [
       "                             InvoiceNo StockCode Description Quantity  \\\n",
       "Type                            object    object      object    int64   \n",
       "The Amount of Missing Values         0         0        1454        0   \n",
       "Ratio of Missing Values            0.0       0.0    0.268311      0.0   \n",
       "\n",
       "                             InvoiceDate UnitPrice CustomerID Country  \n",
       "Type                              object   float64    float64  object  \n",
       "The Amount of Missing Values           0         0     135080       0  \n",
       "Ratio of Missing Values              0.0       0.0  24.926694     0.0  "
      ]
     },
     "metadata": {},
     "output_type": "display_data"
    }
   ],
   "source": [
    "tab_info=pd.DataFrame(df_initial.dtypes).T.rename(index={0:'Type'})\n",
    "tab_info=tab_info.append(pd.DataFrame(df_initial.isnull().sum()).T.rename(index={0:'The Amount of Missing Values'}))\n",
    "tab_info=tab_info.append(pd.DataFrame(df_initial.isnull().sum()/df_initial.shape[0]*100).T.\n",
    "                         rename(index={0:'Ratio of Missing Values'}))\n",
    "display(tab_info)"
   ]
  },
  {
   "cell_type": "markdown",
   "id": "84a64a6e",
   "metadata": {},
   "source": [
    "Description is the text Description of the product, which is not the focus of our analysis. There are 1454 empty values, which will not be processed.\n",
    "\n",
    "CustomerID is the customer's unique number, which is very important. 135,080 lines are missing, nearly 1/5 of the total number of lines. The missing value was deleted because the cause of the missing value could not be determined\n"
   ]
  },
  {
   "cell_type": "code",
   "execution_count": 6,
   "id": "80c4ac5d",
   "metadata": {},
   "outputs": [
    {
     "name": "stdout",
     "output_type": "stream",
     "text": [
      "Dataframe dimensions: (406829, 8)\n"
     ]
    }
   ],
   "source": [
    "df_initial.dropna(axis = 0, subset = ['CustomerID'], inplace = True)#axis=0:drop rows\n",
    "print('Dataframe dimensions:', df_initial.shape)"
   ]
  },
  {
   "cell_type": "code",
   "execution_count": 8,
   "id": "d7d87df2",
   "metadata": {},
   "outputs": [
    {
     "data": {
      "text/plain": [
       "InvoiceNo      0\n",
       "StockCode      0\n",
       "Description    0\n",
       "Quantity       0\n",
       "InvoiceDate    0\n",
       "UnitPrice      0\n",
       "CustomerID     0\n",
       "Country        0\n",
       "dtype: int64"
      ]
     },
     "execution_count": 8,
     "metadata": {},
     "output_type": "execute_result"
    }
   ],
   "source": [
    "df_initial.isnull().sum()"
   ]
  },
  {
   "cell_type": "markdown",
   "id": "1da837dd",
   "metadata": {},
   "source": [
    "### 1.2 Handling Duplicated Values"
   ]
  },
  {
   "cell_type": "code",
   "execution_count": 11,
   "id": "9120b84e",
   "metadata": {},
   "outputs": [
    {
     "name": "stdout",
     "output_type": "stream",
     "text": [
      "Duplicated amount: 5225\n"
     ]
    }
   ],
   "source": [
    "print('Duplicated amount: {}'.format(df_initial.duplicated().sum()))"
   ]
  },
  {
   "cell_type": "code",
   "execution_count": 12,
   "id": "c444442d",
   "metadata": {},
   "outputs": [],
   "source": [
    "df_initial.drop_duplicates(inplace=True)"
   ]
  },
  {
   "cell_type": "markdown",
   "id": "656c04f2",
   "metadata": {},
   "source": [
    "### 1.3 Time consistency processing"
   ]
  },
  {
   "cell_type": "markdown",
   "id": "0e8c0a90",
   "metadata": {},
   "source": [
    "First convert InvoiceTime to datetime, a time format that pandas can handle:"
   ]
  },
  {
   "cell_type": "code",
   "execution_count": 14,
   "id": "08c49660",
   "metadata": {},
   "outputs": [],
   "source": [
    "df_initial['InvoiceDate']=pd.to_datetime(df_initial['InvoiceDate'], errors='coerce')"
   ]
  },
  {
   "cell_type": "code",
   "execution_count": 15,
   "id": "867e2fa2",
   "metadata": {},
   "outputs": [
    {
     "data": {
      "text/plain": [
       "0        2010-12-01 08:26:00\n",
       "1        2010-12-01 08:26:00\n",
       "2        2010-12-01 08:26:00\n",
       "3        2010-12-01 08:26:00\n",
       "4        2010-12-01 08:26:00\n",
       "                 ...        \n",
       "541904   2011-12-09 12:50:00\n",
       "541905   2011-12-09 12:50:00\n",
       "541906   2011-12-09 12:50:00\n",
       "541907   2011-12-09 12:50:00\n",
       "541908   2011-12-09 12:50:00\n",
       "Name: InvoiceDate, Length: 401604, dtype: datetime64[ns]"
      ]
     },
     "execution_count": 15,
     "metadata": {},
     "output_type": "execute_result"
    }
   ],
   "source": [
    "df_initial['InvoiceDate']"
   ]
  },
  {
   "cell_type": "code",
   "execution_count": 16,
   "id": "c9489846",
   "metadata": {},
   "outputs": [],
   "source": [
    "df_initial.rename(columns={'InvoiceDate':'InvoiceTime'},inplace=True)"
   ]
  },
  {
   "cell_type": "code",
   "execution_count": 17,
   "id": "bf7a02c1",
   "metadata": {},
   "outputs": [],
   "source": [
    "df_initial['Date']=pd.to_datetime(df_initial['InvoiceTime'].dt.date,errors='coerce')#errors='coerce' means return NA when it cannot be deal with in datetime"
   ]
  },
  {
   "cell_type": "code",
   "execution_count": 18,
   "id": "9f2a7a66",
   "metadata": {},
   "outputs": [
    {
     "data": {
      "text/plain": [
       "0        2010-12-01\n",
       "1        2010-12-01\n",
       "2        2010-12-01\n",
       "3        2010-12-01\n",
       "4        2010-12-01\n",
       "            ...    \n",
       "541904   2011-12-09\n",
       "541905   2011-12-09\n",
       "541906   2011-12-09\n",
       "541907   2011-12-09\n",
       "541908   2011-12-09\n",
       "Name: Date, Length: 401604, dtype: datetime64[ns]"
      ]
     },
     "execution_count": 18,
     "metadata": {},
     "output_type": "execute_result"
    }
   ],
   "source": [
    "df_initial['Date']"
   ]
  },
  {
   "cell_type": "code",
   "execution_count": 26,
   "id": "7986bb17",
   "metadata": {},
   "outputs": [],
   "source": [
    "df_initial['Month']=df_initial['InvoiceTime'].dt.month"
   ]
  },
  {
   "cell_type": "code",
   "execution_count": 27,
   "id": "dad4146e",
   "metadata": {},
   "outputs": [
    {
     "data": {
      "text/plain": [
       "0         2010-12-01\n",
       "1         2010-12-01\n",
       "2         2010-12-01\n",
       "3         2010-12-01\n",
       "4         2010-12-01\n",
       "             ...    \n",
       "541904    2011-12-09\n",
       "541905    2011-12-09\n",
       "541906    2011-12-09\n",
       "541907    2011-12-09\n",
       "541908    2011-12-09\n",
       "Name: Month, Length: 401604, dtype: object"
      ]
     },
     "execution_count": 27,
     "metadata": {},
     "output_type": "execute_result"
    }
   ],
   "source": [
    "df_initial['Month']"
   ]
  },
  {
   "cell_type": "markdown",
   "id": "69900dcb",
   "metadata": {},
   "source": [
    "Check whether it has null values"
   ]
  },
  {
   "cell_type": "code",
   "execution_count": 28,
   "id": "4ac7f9e7",
   "metadata": {
    "scrolled": true
   },
   "outputs": [
    {
     "data": {
      "text/plain": [
       "InvoiceNo      0\n",
       "StockCode      0\n",
       "Description    0\n",
       "Quantity       0\n",
       "InvoiceTime    0\n",
       "UnitPrice      0\n",
       "CustomerID     0\n",
       "Country        0\n",
       "Date           0\n",
       "Month          0\n",
       "dtype: int64"
      ]
     },
     "execution_count": 28,
     "metadata": {},
     "output_type": "execute_result"
    }
   ],
   "source": [
    "df_initial.isnull().sum()"
   ]
  },
  {
   "cell_type": "markdown",
   "id": "7d34bc50",
   "metadata": {},
   "source": [
    "### 1.4 Handling Data Type"
   ]
  },
  {
   "cell_type": "code",
   "execution_count": 29,
   "id": "42ab2f44",
   "metadata": {},
   "outputs": [
    {
     "name": "stdout",
     "output_type": "stream",
     "text": [
      "<class 'pandas.core.frame.DataFrame'>\n",
      "Int64Index: 401604 entries, 0 to 541908\n",
      "Data columns (total 10 columns):\n",
      " #   Column       Non-Null Count   Dtype         \n",
      "---  ------       --------------   -----         \n",
      " 0   InvoiceNo    401604 non-null  object        \n",
      " 1   StockCode    401604 non-null  object        \n",
      " 2   Description  401604 non-null  object        \n",
      " 3   Quantity     401604 non-null  int64         \n",
      " 4   InvoiceTime  401604 non-null  datetime64[ns]\n",
      " 5   UnitPrice    401604 non-null  float64       \n",
      " 6   CustomerID   401604 non-null  float64       \n",
      " 7   Country      401604 non-null  object        \n",
      " 8   Date         401604 non-null  datetime64[ns]\n",
      " 9   Month        401604 non-null  object        \n",
      "dtypes: datetime64[ns](2), float64(2), int64(1), object(5)\n",
      "memory usage: 33.7+ MB\n"
     ]
    }
   ],
   "source": [
    "df_initial.info()"
   ]
  },
  {
   "cell_type": "code",
   "execution_count": 31,
   "id": "b9b5946f",
   "metadata": {},
   "outputs": [],
   "source": [
    "df_initial=df_initial.convert_dtypes()"
   ]
  },
  {
   "cell_type": "code",
   "execution_count": 32,
   "id": "44cc148b",
   "metadata": {
    "scrolled": true
   },
   "outputs": [
    {
     "name": "stdout",
     "output_type": "stream",
     "text": [
      "<class 'pandas.core.frame.DataFrame'>\n",
      "Int64Index: 401604 entries, 0 to 541908\n",
      "Data columns (total 10 columns):\n",
      " #   Column       Non-Null Count   Dtype         \n",
      "---  ------       --------------   -----         \n",
      " 0   InvoiceNo    401604 non-null  string        \n",
      " 1   StockCode    401604 non-null  string        \n",
      " 2   Description  401604 non-null  string        \n",
      " 3   Quantity     401604 non-null  Int64         \n",
      " 4   InvoiceTime  401604 non-null  datetime64[ns]\n",
      " 5   UnitPrice    401604 non-null  Float64       \n",
      " 6   CustomerID   401604 non-null  Int64         \n",
      " 7   Country      401604 non-null  string        \n",
      " 8   Date         401604 non-null  datetime64[ns]\n",
      " 9   Month        401604 non-null  object        \n",
      "dtypes: Float64(1), Int64(2), datetime64[ns](2), object(1), string(4)\n",
      "memory usage: 34.9+ MB\n"
     ]
    }
   ],
   "source": [
    "df_initial.info()"
   ]
  },
  {
   "cell_type": "markdown",
   "id": "c5da7dd6",
   "metadata": {},
   "source": [
    "Add sumprice as a new column:"
   ]
  },
  {
   "cell_type": "code",
   "execution_count": 33,
   "id": "e30dec92",
   "metadata": {},
   "outputs": [],
   "source": [
    "df_initial['SumPrice']=df_initial['Quantity']*df_initial['UnitPrice']"
   ]
  },
  {
   "cell_type": "markdown",
   "id": "eee1faa6",
   "metadata": {},
   "source": [
    "### 1.5 Handling outliers"
   ]
  },
  {
   "cell_type": "code",
   "execution_count": 36,
   "id": "ba7710d8",
   "metadata": {},
   "outputs": [
    {
     "data": {
      "text/html": [
       "<div>\n",
       "<style scoped>\n",
       "    .dataframe tbody tr th:only-of-type {\n",
       "        vertical-align: middle;\n",
       "    }\n",
       "\n",
       "    .dataframe tbody tr th {\n",
       "        vertical-align: top;\n",
       "    }\n",
       "\n",
       "    .dataframe thead th {\n",
       "        text-align: right;\n",
       "    }\n",
       "</style>\n",
       "<table border=\"1\" class=\"dataframe\">\n",
       "  <thead>\n",
       "    <tr style=\"text-align: right;\">\n",
       "      <th></th>\n",
       "      <th>count</th>\n",
       "      <th>mean</th>\n",
       "      <th>std</th>\n",
       "      <th>min</th>\n",
       "      <th>25%</th>\n",
       "      <th>50%</th>\n",
       "      <th>75%</th>\n",
       "      <th>max</th>\n",
       "    </tr>\n",
       "  </thead>\n",
       "  <tbody>\n",
       "    <tr>\n",
       "      <th>Quantity</th>\n",
       "      <td>401604.0</td>\n",
       "      <td>12.183273</td>\n",
       "      <td>250.283037</td>\n",
       "      <td>-80995.0</td>\n",
       "      <td>2.00</td>\n",
       "      <td>5.00</td>\n",
       "      <td>12.00</td>\n",
       "      <td>80995.0</td>\n",
       "    </tr>\n",
       "    <tr>\n",
       "      <th>UnitPrice</th>\n",
       "      <td>401604.0</td>\n",
       "      <td>3.474064</td>\n",
       "      <td>69.764035</td>\n",
       "      <td>0.0</td>\n",
       "      <td>1.25</td>\n",
       "      <td>1.95</td>\n",
       "      <td>3.75</td>\n",
       "      <td>38970.0</td>\n",
       "    </tr>\n",
       "    <tr>\n",
       "      <th>CustomerID</th>\n",
       "      <td>401604.0</td>\n",
       "      <td>15281.160818</td>\n",
       "      <td>1714.006089</td>\n",
       "      <td>12346.0</td>\n",
       "      <td>13939.00</td>\n",
       "      <td>15145.00</td>\n",
       "      <td>16784.00</td>\n",
       "      <td>18287.0</td>\n",
       "    </tr>\n",
       "    <tr>\n",
       "      <th>SumPrice</th>\n",
       "      <td>401604.0</td>\n",
       "      <td>20.613638</td>\n",
       "      <td>430.352218</td>\n",
       "      <td>-168469.6</td>\n",
       "      <td>4.25</td>\n",
       "      <td>11.70</td>\n",
       "      <td>19.80</td>\n",
       "      <td>168469.6</td>\n",
       "    </tr>\n",
       "  </tbody>\n",
       "</table>\n",
       "</div>"
      ],
      "text/plain": [
       "               count          mean          std       min       25%       50%  \\\n",
       "Quantity    401604.0     12.183273   250.283037  -80995.0      2.00      5.00   \n",
       "UnitPrice   401604.0      3.474064    69.764035       0.0      1.25      1.95   \n",
       "CustomerID  401604.0  15281.160818  1714.006089   12346.0  13939.00  15145.00   \n",
       "SumPrice    401604.0     20.613638   430.352218 -168469.6      4.25     11.70   \n",
       "\n",
       "                 75%       max  \n",
       "Quantity       12.00   80995.0  \n",
       "UnitPrice       3.75   38970.0  \n",
       "CustomerID  16784.00   18287.0  \n",
       "SumPrice       19.80  168469.6  "
      ]
     },
     "execution_count": 36,
     "metadata": {},
     "output_type": "execute_result"
    }
   ],
   "source": [
    "df_initial.describe().T"
   ]
  },
  {
   "cell_type": "markdown",
   "id": "ebf1b8b5",
   "metadata": {},
   "source": [
    "* The minimun of Quantity and SumPrice are negative\n",
    "* The minimun of UnitPrice is 0"
   ]
  },
  {
   "cell_type": "markdown",
   "id": "9ccfd725",
   "metadata": {},
   "source": [
    "### 1.5.1 C-word Cancel Order"
   ]
  },
  {
   "cell_type": "code",
   "execution_count": 37,
   "id": "733682a1",
   "metadata": {},
   "outputs": [
    {
     "data": {
      "text/html": [
       "<div>\n",
       "<style scoped>\n",
       "    .dataframe tbody tr th:only-of-type {\n",
       "        vertical-align: middle;\n",
       "    }\n",
       "\n",
       "    .dataframe tbody tr th {\n",
       "        vertical-align: top;\n",
       "    }\n",
       "\n",
       "    .dataframe thead th {\n",
       "        text-align: right;\n",
       "    }\n",
       "</style>\n",
       "<table border=\"1\" class=\"dataframe\">\n",
       "  <thead>\n",
       "    <tr style=\"text-align: right;\">\n",
       "      <th></th>\n",
       "      <th>InvoiceNo</th>\n",
       "      <th>StockCode</th>\n",
       "      <th>Description</th>\n",
       "      <th>Quantity</th>\n",
       "      <th>InvoiceTime</th>\n",
       "      <th>UnitPrice</th>\n",
       "      <th>CustomerID</th>\n",
       "      <th>Country</th>\n",
       "      <th>Date</th>\n",
       "      <th>Month</th>\n",
       "      <th>SumPrice</th>\n",
       "    </tr>\n",
       "  </thead>\n",
       "  <tbody>\n",
       "    <tr>\n",
       "      <th>141</th>\n",
       "      <td>C536379</td>\n",
       "      <td>D</td>\n",
       "      <td>Discount</td>\n",
       "      <td>-1</td>\n",
       "      <td>2010-12-01 09:41:00</td>\n",
       "      <td>27.5</td>\n",
       "      <td>14527</td>\n",
       "      <td>United Kingdom</td>\n",
       "      <td>2010-12-01</td>\n",
       "      <td>2010-12-01</td>\n",
       "      <td>-27.5</td>\n",
       "    </tr>\n",
       "    <tr>\n",
       "      <th>154</th>\n",
       "      <td>C536383</td>\n",
       "      <td>35004C</td>\n",
       "      <td>SET OF 3 COLOURED  FLYING DUCKS</td>\n",
       "      <td>-1</td>\n",
       "      <td>2010-12-01 09:49:00</td>\n",
       "      <td>4.65</td>\n",
       "      <td>15311</td>\n",
       "      <td>United Kingdom</td>\n",
       "      <td>2010-12-01</td>\n",
       "      <td>2010-12-01</td>\n",
       "      <td>-4.65</td>\n",
       "    </tr>\n",
       "    <tr>\n",
       "      <th>235</th>\n",
       "      <td>C536391</td>\n",
       "      <td>22556</td>\n",
       "      <td>PLASTERS IN TIN CIRCUS PARADE</td>\n",
       "      <td>-12</td>\n",
       "      <td>2010-12-01 10:24:00</td>\n",
       "      <td>1.65</td>\n",
       "      <td>17548</td>\n",
       "      <td>United Kingdom</td>\n",
       "      <td>2010-12-01</td>\n",
       "      <td>2010-12-01</td>\n",
       "      <td>-19.8</td>\n",
       "    </tr>\n",
       "    <tr>\n",
       "      <th>236</th>\n",
       "      <td>C536391</td>\n",
       "      <td>21984</td>\n",
       "      <td>PACK OF 12 PINK PAISLEY TISSUES</td>\n",
       "      <td>-24</td>\n",
       "      <td>2010-12-01 10:24:00</td>\n",
       "      <td>0.29</td>\n",
       "      <td>17548</td>\n",
       "      <td>United Kingdom</td>\n",
       "      <td>2010-12-01</td>\n",
       "      <td>2010-12-01</td>\n",
       "      <td>-6.96</td>\n",
       "    </tr>\n",
       "    <tr>\n",
       "      <th>237</th>\n",
       "      <td>C536391</td>\n",
       "      <td>21983</td>\n",
       "      <td>PACK OF 12 BLUE PAISLEY TISSUES</td>\n",
       "      <td>-24</td>\n",
       "      <td>2010-12-01 10:24:00</td>\n",
       "      <td>0.29</td>\n",
       "      <td>17548</td>\n",
       "      <td>United Kingdom</td>\n",
       "      <td>2010-12-01</td>\n",
       "      <td>2010-12-01</td>\n",
       "      <td>-6.96</td>\n",
       "    </tr>\n",
       "    <tr>\n",
       "      <th>...</th>\n",
       "      <td>...</td>\n",
       "      <td>...</td>\n",
       "      <td>...</td>\n",
       "      <td>...</td>\n",
       "      <td>...</td>\n",
       "      <td>...</td>\n",
       "      <td>...</td>\n",
       "      <td>...</td>\n",
       "      <td>...</td>\n",
       "      <td>...</td>\n",
       "      <td>...</td>\n",
       "    </tr>\n",
       "    <tr>\n",
       "      <th>540449</th>\n",
       "      <td>C581490</td>\n",
       "      <td>23144</td>\n",
       "      <td>ZINC T-LIGHT HOLDER STARS SMALL</td>\n",
       "      <td>-11</td>\n",
       "      <td>2011-12-09 09:57:00</td>\n",
       "      <td>0.83</td>\n",
       "      <td>14397</td>\n",
       "      <td>United Kingdom</td>\n",
       "      <td>2011-12-09</td>\n",
       "      <td>2011-12-09</td>\n",
       "      <td>-9.13</td>\n",
       "    </tr>\n",
       "    <tr>\n",
       "      <th>541541</th>\n",
       "      <td>C581499</td>\n",
       "      <td>M</td>\n",
       "      <td>Manual</td>\n",
       "      <td>-1</td>\n",
       "      <td>2011-12-09 10:28:00</td>\n",
       "      <td>224.69</td>\n",
       "      <td>15498</td>\n",
       "      <td>United Kingdom</td>\n",
       "      <td>2011-12-09</td>\n",
       "      <td>2011-12-09</td>\n",
       "      <td>-224.69</td>\n",
       "    </tr>\n",
       "    <tr>\n",
       "      <th>541715</th>\n",
       "      <td>C581568</td>\n",
       "      <td>21258</td>\n",
       "      <td>VICTORIAN SEWING BOX LARGE</td>\n",
       "      <td>-5</td>\n",
       "      <td>2011-12-09 11:57:00</td>\n",
       "      <td>10.95</td>\n",
       "      <td>15311</td>\n",
       "      <td>United Kingdom</td>\n",
       "      <td>2011-12-09</td>\n",
       "      <td>2011-12-09</td>\n",
       "      <td>-54.75</td>\n",
       "    </tr>\n",
       "    <tr>\n",
       "      <th>541716</th>\n",
       "      <td>C581569</td>\n",
       "      <td>84978</td>\n",
       "      <td>HANGING HEART JAR T-LIGHT HOLDER</td>\n",
       "      <td>-1</td>\n",
       "      <td>2011-12-09 11:58:00</td>\n",
       "      <td>1.25</td>\n",
       "      <td>17315</td>\n",
       "      <td>United Kingdom</td>\n",
       "      <td>2011-12-09</td>\n",
       "      <td>2011-12-09</td>\n",
       "      <td>-1.25</td>\n",
       "    </tr>\n",
       "    <tr>\n",
       "      <th>541717</th>\n",
       "      <td>C581569</td>\n",
       "      <td>20979</td>\n",
       "      <td>36 PENCILS TUBE RED RETROSPOT</td>\n",
       "      <td>-5</td>\n",
       "      <td>2011-12-09 11:58:00</td>\n",
       "      <td>1.25</td>\n",
       "      <td>17315</td>\n",
       "      <td>United Kingdom</td>\n",
       "      <td>2011-12-09</td>\n",
       "      <td>2011-12-09</td>\n",
       "      <td>-6.25</td>\n",
       "    </tr>\n",
       "  </tbody>\n",
       "</table>\n",
       "<p>8872 rows × 11 columns</p>\n",
       "</div>"
      ],
      "text/plain": [
       "       InvoiceNo StockCode                       Description  Quantity  \\\n",
       "141      C536379         D                          Discount        -1   \n",
       "154      C536383    35004C   SET OF 3 COLOURED  FLYING DUCKS        -1   \n",
       "235      C536391     22556    PLASTERS IN TIN CIRCUS PARADE        -12   \n",
       "236      C536391     21984  PACK OF 12 PINK PAISLEY TISSUES        -24   \n",
       "237      C536391     21983  PACK OF 12 BLUE PAISLEY TISSUES        -24   \n",
       "...          ...       ...                               ...       ...   \n",
       "540449   C581490     23144   ZINC T-LIGHT HOLDER STARS SMALL       -11   \n",
       "541541   C581499         M                            Manual        -1   \n",
       "541715   C581568     21258        VICTORIAN SEWING BOX LARGE        -5   \n",
       "541716   C581569     84978  HANGING HEART JAR T-LIGHT HOLDER        -1   \n",
       "541717   C581569     20979     36 PENCILS TUBE RED RETROSPOT        -5   \n",
       "\n",
       "               InvoiceTime  UnitPrice  CustomerID         Country       Date  \\\n",
       "141    2010-12-01 09:41:00       27.5       14527  United Kingdom 2010-12-01   \n",
       "154    2010-12-01 09:49:00       4.65       15311  United Kingdom 2010-12-01   \n",
       "235    2010-12-01 10:24:00       1.65       17548  United Kingdom 2010-12-01   \n",
       "236    2010-12-01 10:24:00       0.29       17548  United Kingdom 2010-12-01   \n",
       "237    2010-12-01 10:24:00       0.29       17548  United Kingdom 2010-12-01   \n",
       "...                    ...        ...         ...             ...        ...   \n",
       "540449 2011-12-09 09:57:00       0.83       14397  United Kingdom 2011-12-09   \n",
       "541541 2011-12-09 10:28:00     224.69       15498  United Kingdom 2011-12-09   \n",
       "541715 2011-12-09 11:57:00      10.95       15311  United Kingdom 2011-12-09   \n",
       "541716 2011-12-09 11:58:00       1.25       17315  United Kingdom 2011-12-09   \n",
       "541717 2011-12-09 11:58:00       1.25       17315  United Kingdom 2011-12-09   \n",
       "\n",
       "             Month  SumPrice  \n",
       "141     2010-12-01     -27.5  \n",
       "154     2010-12-01     -4.65  \n",
       "235     2010-12-01     -19.8  \n",
       "236     2010-12-01     -6.96  \n",
       "237     2010-12-01     -6.96  \n",
       "...            ...       ...  \n",
       "540449  2011-12-09     -9.13  \n",
       "541541  2011-12-09   -224.69  \n",
       "541715  2011-12-09    -54.75  \n",
       "541716  2011-12-09     -1.25  \n",
       "541717  2011-12-09     -6.25  \n",
       "\n",
       "[8872 rows x 11 columns]"
      ]
     },
     "execution_count": 37,
     "metadata": {},
     "output_type": "execute_result"
    }
   ],
   "source": [
    "#Check the row which Quantity is less than 0\n",
    "df_initial[(df_initial['Quantity']<=0)]"
   ]
  },
  {
   "cell_type": "markdown",
   "id": "5be9c74b",
   "metadata": {},
   "source": [
    "Notice that the negative quanlity is mainly caused by the C-word orders (cancelled orders)"
   ]
  },
  {
   "cell_type": "markdown",
   "id": "f2432342",
   "metadata": {},
   "source": [
    "* The negative value of cancellations can interfere with the analysis of sales peformance.\n",
    "\n",
    "* Consider splitting the data into only successful orders and only cancellations.\n",
    "\n",
    "* It is necessary to explore whether the cancellation is a modification made directly on the original order or used to offset the new data of the original order.\n",
    "\n",
    "Thus, Sales_df is divided into successful orders and cancelled orders according to whether the invoice number InvoiceNo contains \"C\" :\n",
    "\n"
   ]
  },
  {
   "cell_type": "code",
   "execution_count": 39,
   "id": "4b9702fc",
   "metadata": {},
   "outputs": [],
   "source": [
    "query_c=df_initial['InvoiceNo'].str.contains('C')"
   ]
  },
  {
   "cell_type": "code",
   "execution_count": 40,
   "id": "f7efeab6",
   "metadata": {},
   "outputs": [],
   "source": [
    "#Only included cancel order\n",
    "sales_cancel=df_initial.loc[query_c,:].copy()"
   ]
  },
  {
   "cell_type": "code",
   "execution_count": 41,
   "id": "48490610",
   "metadata": {},
   "outputs": [],
   "source": [
    "#Only included success order\n",
    "sales_success=df_initial.loc[-query_c,:].copy()"
   ]
  },
  {
   "cell_type": "markdown",
   "id": "a941ec49",
   "metadata": {},
   "source": [
    "Add a field SrcInvoiceNo for sales_cancel to hold the invoice number with the \"C\" removed:"
   ]
  },
  {
   "cell_type": "code",
   "execution_count": 42,
   "id": "dfdfbaee",
   "metadata": {},
   "outputs": [],
   "source": [
    "#Add a new column\n",
    "sales_cancel['SrcInvoiceNo'] = sales_cancel['InvoiceNo'].str.split('C',expand=True)[1]"
   ]
  },
  {
   "cell_type": "code",
   "execution_count": 43,
   "id": "5ebb1e50",
   "metadata": {},
   "outputs": [
    {
     "name": "stdout",
     "output_type": "stream",
     "text": [
      "Before merge,the shape of sales_cancel：(8872, 12)\n",
      "Before merge,the shape of sales_success：(392732, 11)\n",
      "After merge, the shape of new_data：(0, 23)\n"
     ]
    }
   ],
   "source": [
    "print('Before merge,the shape of sales_cancel：{}'.format(sales_cancel.shape))\n",
    "print('Before merge,the shape of sales_success：{}'.format(sales_success.shape))\n",
    "new_data = pd.merge(sales_cancel, sales_success, left_on='SrcInvoiceNo',right_on='InvoiceNo')\n",
    "print('After merge, the shape of new_data：{}'.format(new_data.shape))\n"
   ]
  },
  {
   "cell_type": "markdown",
   "id": "6e7a91b2",
   "metadata": {},
   "source": [
    "We can confirm that there is no correspondence between a cancelled order and a successful order. Thus, we can use sales_success in the following analytics."
   ]
  },
  {
   "cell_type": "markdown",
   "id": "148a7b0e",
   "metadata": {},
   "source": [
    "### 1.5.2 Free Order-UnitPrice is 0"
   ]
  },
  {
   "cell_type": "markdown",
   "id": "763c743b",
   "metadata": {},
   "source": [
    "It is speculated that the order with the unit price of 0 is a gift for promotional activities, which interferes with the calculation of order quantity, unit price, joint rate and other indicators. Therefore, a separate table is also set up for storage, and then the free order is analyzed:"
   ]
  },
  {
   "cell_type": "code",
   "execution_count": 46,
   "id": "4dbff594",
   "metadata": {},
   "outputs": [
    {
     "data": {
      "text/plain": [
       "0         False\n",
       "1         False\n",
       "2         False\n",
       "3         False\n",
       "4         False\n",
       "          ...  \n",
       "541904    False\n",
       "541905    False\n",
       "541906    False\n",
       "541907    False\n",
       "541908    False\n",
       "Name: UnitPrice, Length: 392732, dtype: boolean"
      ]
     },
     "execution_count": 46,
     "metadata": {},
     "output_type": "execute_result"
    }
   ],
   "source": [
    "query_free=sales_success['UnitPrice']==0"
   ]
  },
  {
   "cell_type": "code",
   "execution_count": 45,
   "id": "a00076be",
   "metadata": {},
   "outputs": [],
   "source": [
    "#Only include free order\n",
    "sales_cancel=sales_success.loc[query_free,:].copy()"
   ]
  },
  {
   "cell_type": "code",
   "execution_count": 49,
   "id": "e212b278",
   "metadata": {},
   "outputs": [
    {
     "data": {
      "text/html": [
       "<div>\n",
       "<style scoped>\n",
       "    .dataframe tbody tr th:only-of-type {\n",
       "        vertical-align: middle;\n",
       "    }\n",
       "\n",
       "    .dataframe tbody tr th {\n",
       "        vertical-align: top;\n",
       "    }\n",
       "\n",
       "    .dataframe thead th {\n",
       "        text-align: right;\n",
       "    }\n",
       "</style>\n",
       "<table border=\"1\" class=\"dataframe\">\n",
       "  <thead>\n",
       "    <tr style=\"text-align: right;\">\n",
       "      <th></th>\n",
       "      <th>InvoiceNo</th>\n",
       "      <th>StockCode</th>\n",
       "      <th>Description</th>\n",
       "      <th>Quantity</th>\n",
       "      <th>InvoiceTime</th>\n",
       "      <th>UnitPrice</th>\n",
       "      <th>CustomerID</th>\n",
       "      <th>Country</th>\n",
       "      <th>Date</th>\n",
       "      <th>Month</th>\n",
       "      <th>SumPrice</th>\n",
       "    </tr>\n",
       "  </thead>\n",
       "  <tbody>\n",
       "    <tr>\n",
       "      <th>0</th>\n",
       "      <td>536365</td>\n",
       "      <td>85123A</td>\n",
       "      <td>WHITE HANGING HEART T-LIGHT HOLDER</td>\n",
       "      <td>6</td>\n",
       "      <td>2010-12-01 08:26:00</td>\n",
       "      <td>2.55</td>\n",
       "      <td>17850</td>\n",
       "      <td>United Kingdom</td>\n",
       "      <td>2010-12-01</td>\n",
       "      <td>2010-12-01</td>\n",
       "      <td>15.3</td>\n",
       "    </tr>\n",
       "    <tr>\n",
       "      <th>1</th>\n",
       "      <td>536365</td>\n",
       "      <td>71053</td>\n",
       "      <td>WHITE METAL LANTERN</td>\n",
       "      <td>6</td>\n",
       "      <td>2010-12-01 08:26:00</td>\n",
       "      <td>3.39</td>\n",
       "      <td>17850</td>\n",
       "      <td>United Kingdom</td>\n",
       "      <td>2010-12-01</td>\n",
       "      <td>2010-12-01</td>\n",
       "      <td>20.34</td>\n",
       "    </tr>\n",
       "    <tr>\n",
       "      <th>2</th>\n",
       "      <td>536365</td>\n",
       "      <td>84406B</td>\n",
       "      <td>CREAM CUPID HEARTS COAT HANGER</td>\n",
       "      <td>8</td>\n",
       "      <td>2010-12-01 08:26:00</td>\n",
       "      <td>2.75</td>\n",
       "      <td>17850</td>\n",
       "      <td>United Kingdom</td>\n",
       "      <td>2010-12-01</td>\n",
       "      <td>2010-12-01</td>\n",
       "      <td>22.0</td>\n",
       "    </tr>\n",
       "    <tr>\n",
       "      <th>3</th>\n",
       "      <td>536365</td>\n",
       "      <td>84029G</td>\n",
       "      <td>KNITTED UNION FLAG HOT WATER BOTTLE</td>\n",
       "      <td>6</td>\n",
       "      <td>2010-12-01 08:26:00</td>\n",
       "      <td>3.39</td>\n",
       "      <td>17850</td>\n",
       "      <td>United Kingdom</td>\n",
       "      <td>2010-12-01</td>\n",
       "      <td>2010-12-01</td>\n",
       "      <td>20.34</td>\n",
       "    </tr>\n",
       "    <tr>\n",
       "      <th>4</th>\n",
       "      <td>536365</td>\n",
       "      <td>84029E</td>\n",
       "      <td>RED WOOLLY HOTTIE WHITE HEART.</td>\n",
       "      <td>6</td>\n",
       "      <td>2010-12-01 08:26:00</td>\n",
       "      <td>3.39</td>\n",
       "      <td>17850</td>\n",
       "      <td>United Kingdom</td>\n",
       "      <td>2010-12-01</td>\n",
       "      <td>2010-12-01</td>\n",
       "      <td>20.34</td>\n",
       "    </tr>\n",
       "    <tr>\n",
       "      <th>...</th>\n",
       "      <td>...</td>\n",
       "      <td>...</td>\n",
       "      <td>...</td>\n",
       "      <td>...</td>\n",
       "      <td>...</td>\n",
       "      <td>...</td>\n",
       "      <td>...</td>\n",
       "      <td>...</td>\n",
       "      <td>...</td>\n",
       "      <td>...</td>\n",
       "      <td>...</td>\n",
       "    </tr>\n",
       "    <tr>\n",
       "      <th>541904</th>\n",
       "      <td>581587</td>\n",
       "      <td>22613</td>\n",
       "      <td>PACK OF 20 SPACEBOY NAPKINS</td>\n",
       "      <td>12</td>\n",
       "      <td>2011-12-09 12:50:00</td>\n",
       "      <td>0.85</td>\n",
       "      <td>12680</td>\n",
       "      <td>France</td>\n",
       "      <td>2011-12-09</td>\n",
       "      <td>2011-12-09</td>\n",
       "      <td>10.2</td>\n",
       "    </tr>\n",
       "    <tr>\n",
       "      <th>541905</th>\n",
       "      <td>581587</td>\n",
       "      <td>22899</td>\n",
       "      <td>CHILDREN'S APRON DOLLY GIRL</td>\n",
       "      <td>6</td>\n",
       "      <td>2011-12-09 12:50:00</td>\n",
       "      <td>2.1</td>\n",
       "      <td>12680</td>\n",
       "      <td>France</td>\n",
       "      <td>2011-12-09</td>\n",
       "      <td>2011-12-09</td>\n",
       "      <td>12.6</td>\n",
       "    </tr>\n",
       "    <tr>\n",
       "      <th>541906</th>\n",
       "      <td>581587</td>\n",
       "      <td>23254</td>\n",
       "      <td>CHILDRENS CUTLERY DOLLY GIRL</td>\n",
       "      <td>4</td>\n",
       "      <td>2011-12-09 12:50:00</td>\n",
       "      <td>4.15</td>\n",
       "      <td>12680</td>\n",
       "      <td>France</td>\n",
       "      <td>2011-12-09</td>\n",
       "      <td>2011-12-09</td>\n",
       "      <td>16.6</td>\n",
       "    </tr>\n",
       "    <tr>\n",
       "      <th>541907</th>\n",
       "      <td>581587</td>\n",
       "      <td>23255</td>\n",
       "      <td>CHILDRENS CUTLERY CIRCUS PARADE</td>\n",
       "      <td>4</td>\n",
       "      <td>2011-12-09 12:50:00</td>\n",
       "      <td>4.15</td>\n",
       "      <td>12680</td>\n",
       "      <td>France</td>\n",
       "      <td>2011-12-09</td>\n",
       "      <td>2011-12-09</td>\n",
       "      <td>16.6</td>\n",
       "    </tr>\n",
       "    <tr>\n",
       "      <th>541908</th>\n",
       "      <td>581587</td>\n",
       "      <td>22138</td>\n",
       "      <td>BAKING SET 9 PIECE RETROSPOT</td>\n",
       "      <td>3</td>\n",
       "      <td>2011-12-09 12:50:00</td>\n",
       "      <td>4.95</td>\n",
       "      <td>12680</td>\n",
       "      <td>France</td>\n",
       "      <td>2011-12-09</td>\n",
       "      <td>2011-12-09</td>\n",
       "      <td>14.85</td>\n",
       "    </tr>\n",
       "  </tbody>\n",
       "</table>\n",
       "<p>392692 rows × 11 columns</p>\n",
       "</div>"
      ],
      "text/plain": [
       "       InvoiceNo StockCode                          Description  Quantity  \\\n",
       "0         536365    85123A   WHITE HANGING HEART T-LIGHT HOLDER         6   \n",
       "1         536365     71053                  WHITE METAL LANTERN         6   \n",
       "2         536365    84406B       CREAM CUPID HEARTS COAT HANGER         8   \n",
       "3         536365    84029G  KNITTED UNION FLAG HOT WATER BOTTLE         6   \n",
       "4         536365    84029E       RED WOOLLY HOTTIE WHITE HEART.         6   \n",
       "...          ...       ...                                  ...       ...   \n",
       "541904    581587     22613          PACK OF 20 SPACEBOY NAPKINS        12   \n",
       "541905    581587     22899         CHILDREN'S APRON DOLLY GIRL          6   \n",
       "541906    581587     23254        CHILDRENS CUTLERY DOLLY GIRL          4   \n",
       "541907    581587     23255      CHILDRENS CUTLERY CIRCUS PARADE         4   \n",
       "541908    581587     22138        BAKING SET 9 PIECE RETROSPOT          3   \n",
       "\n",
       "               InvoiceTime  UnitPrice  CustomerID         Country       Date  \\\n",
       "0      2010-12-01 08:26:00       2.55       17850  United Kingdom 2010-12-01   \n",
       "1      2010-12-01 08:26:00       3.39       17850  United Kingdom 2010-12-01   \n",
       "2      2010-12-01 08:26:00       2.75       17850  United Kingdom 2010-12-01   \n",
       "3      2010-12-01 08:26:00       3.39       17850  United Kingdom 2010-12-01   \n",
       "4      2010-12-01 08:26:00       3.39       17850  United Kingdom 2010-12-01   \n",
       "...                    ...        ...         ...             ...        ...   \n",
       "541904 2011-12-09 12:50:00       0.85       12680          France 2011-12-09   \n",
       "541905 2011-12-09 12:50:00        2.1       12680          France 2011-12-09   \n",
       "541906 2011-12-09 12:50:00       4.15       12680          France 2011-12-09   \n",
       "541907 2011-12-09 12:50:00       4.15       12680          France 2011-12-09   \n",
       "541908 2011-12-09 12:50:00       4.95       12680          France 2011-12-09   \n",
       "\n",
       "             Month  SumPrice  \n",
       "0       2010-12-01      15.3  \n",
       "1       2010-12-01     20.34  \n",
       "2       2010-12-01      22.0  \n",
       "3       2010-12-01     20.34  \n",
       "4       2010-12-01     20.34  \n",
       "...            ...       ...  \n",
       "541904  2011-12-09      10.2  \n",
       "541905  2011-12-09      12.6  \n",
       "541906  2011-12-09      16.6  \n",
       "541907  2011-12-09      16.6  \n",
       "541908  2011-12-09     14.85  \n",
       "\n",
       "[392692 rows x 11 columns]"
      ]
     },
     "execution_count": 49,
     "metadata": {},
     "output_type": "execute_result"
    }
   ],
   "source": [
    "#Only include normal order\n",
    "sales_success=sales_success.loc[-query_free,:]\n",
    "sales_success"
   ]
  },
  {
   "cell_type": "code",
   "execution_count": 48,
   "id": "c38e19c9",
   "metadata": {},
   "outputs": [
    {
     "data": {
      "text/html": [
       "<div>\n",
       "<style scoped>\n",
       "    .dataframe tbody tr th:only-of-type {\n",
       "        vertical-align: middle;\n",
       "    }\n",
       "\n",
       "    .dataframe tbody tr th {\n",
       "        vertical-align: top;\n",
       "    }\n",
       "\n",
       "    .dataframe thead th {\n",
       "        text-align: right;\n",
       "    }\n",
       "</style>\n",
       "<table border=\"1\" class=\"dataframe\">\n",
       "  <thead>\n",
       "    <tr style=\"text-align: right;\">\n",
       "      <th></th>\n",
       "      <th>count</th>\n",
       "      <th>mean</th>\n",
       "      <th>std</th>\n",
       "      <th>min</th>\n",
       "      <th>25%</th>\n",
       "      <th>50%</th>\n",
       "      <th>75%</th>\n",
       "      <th>max</th>\n",
       "    </tr>\n",
       "  </thead>\n",
       "  <tbody>\n",
       "    <tr>\n",
       "      <th>Quantity</th>\n",
       "      <td>392692.0</td>\n",
       "      <td>13.119702</td>\n",
       "      <td>180.492832</td>\n",
       "      <td>1.000</td>\n",
       "      <td>2.00</td>\n",
       "      <td>6.00</td>\n",
       "      <td>12.00</td>\n",
       "      <td>80995.00</td>\n",
       "    </tr>\n",
       "    <tr>\n",
       "      <th>UnitPrice</th>\n",
       "      <td>392692.0</td>\n",
       "      <td>3.125914</td>\n",
       "      <td>22.241836</td>\n",
       "      <td>0.001</td>\n",
       "      <td>1.25</td>\n",
       "      <td>1.95</td>\n",
       "      <td>3.75</td>\n",
       "      <td>8142.75</td>\n",
       "    </tr>\n",
       "    <tr>\n",
       "      <th>CustomerID</th>\n",
       "      <td>392692.0</td>\n",
       "      <td>15287.843865</td>\n",
       "      <td>1713.539549</td>\n",
       "      <td>12346.000</td>\n",
       "      <td>13955.00</td>\n",
       "      <td>15150.00</td>\n",
       "      <td>16791.00</td>\n",
       "      <td>18287.00</td>\n",
       "    </tr>\n",
       "    <tr>\n",
       "      <th>SumPrice</th>\n",
       "      <td>392692.0</td>\n",
       "      <td>22.631500</td>\n",
       "      <td>311.099224</td>\n",
       "      <td>0.001</td>\n",
       "      <td>4.95</td>\n",
       "      <td>12.45</td>\n",
       "      <td>19.80</td>\n",
       "      <td>168469.60</td>\n",
       "    </tr>\n",
       "  </tbody>\n",
       "</table>\n",
       "</div>"
      ],
      "text/plain": [
       "               count          mean          std        min       25%  \\\n",
       "Quantity    392692.0     13.119702   180.492832      1.000      2.00   \n",
       "UnitPrice   392692.0      3.125914    22.241836      0.001      1.25   \n",
       "CustomerID  392692.0  15287.843865  1713.539549  12346.000  13955.00   \n",
       "SumPrice    392692.0     22.631500   311.099224      0.001      4.95   \n",
       "\n",
       "                 50%       75%        max  \n",
       "Quantity        6.00     12.00   80995.00  \n",
       "UnitPrice       1.95      3.75    8142.75  \n",
       "CustomerID  15150.00  16791.00   18287.00  \n",
       "SumPrice       12.45     19.80  168469.60  "
      ]
     },
     "execution_count": 48,
     "metadata": {},
     "output_type": "execute_result"
    }
   ],
   "source": [
    "sales_success.describe().T"
   ]
  },
  {
   "cell_type": "markdown",
   "id": "ec81cf92",
   "metadata": {},
   "source": [
    "## 2.Analytics and Visualization"
   ]
  },
  {
   "cell_type": "markdown",
   "id": "3bc53103",
   "metadata": {},
   "source": [
    "### 2.1 Sales Situation and Description Statistic"
   ]
  },
  {
   "cell_type": "markdown",
   "id": "2ad49b3e",
   "metadata": {},
   "source": [
    "#### 2.1.1 Check each order information"
   ]
  },
  {
   "cell_type": "markdown",
   "id": "c5c31b9b",
   "metadata": {},
   "source": [
    "First group Sales_SUCCESS by order number and sum Quantity Quantity and SumPrice:"
   ]
  },
  {
   "cell_type": "code",
   "execution_count": 52,
   "id": "e3a210d4",
   "metadata": {},
   "outputs": [],
   "source": [
    "invoice_grouped=sales_success.groupby('InvoiceNo')[['Quantity','SumPrice']].sum()"
   ]
  },
  {
   "cell_type": "code",
   "execution_count": 54,
   "id": "5f3c74b6",
   "metadata": {},
   "outputs": [
    {
     "data": {
      "text/html": [
       "<div>\n",
       "<style scoped>\n",
       "    .dataframe tbody tr th:only-of-type {\n",
       "        vertical-align: middle;\n",
       "    }\n",
       "\n",
       "    .dataframe tbody tr th {\n",
       "        vertical-align: top;\n",
       "    }\n",
       "\n",
       "    .dataframe thead th {\n",
       "        text-align: right;\n",
       "    }\n",
       "</style>\n",
       "<table border=\"1\" class=\"dataframe\">\n",
       "  <thead>\n",
       "    <tr style=\"text-align: right;\">\n",
       "      <th></th>\n",
       "      <th>count</th>\n",
       "      <th>mean</th>\n",
       "      <th>std</th>\n",
       "      <th>min</th>\n",
       "      <th>25%</th>\n",
       "      <th>50%</th>\n",
       "      <th>75%</th>\n",
       "      <th>max</th>\n",
       "    </tr>\n",
       "  </thead>\n",
       "  <tbody>\n",
       "    <tr>\n",
       "      <th>Quantity</th>\n",
       "      <td>18532.0</td>\n",
       "      <td>278.00572</td>\n",
       "      <td>972.389641</td>\n",
       "      <td>1.00</td>\n",
       "      <td>74.00</td>\n",
       "      <td>154.000</td>\n",
       "      <td>290.00</td>\n",
       "      <td>80995.0</td>\n",
       "    </tr>\n",
       "    <tr>\n",
       "      <th>SumPrice</th>\n",
       "      <td>18532.0</td>\n",
       "      <td>479.56016</td>\n",
       "      <td>1678.082580</td>\n",
       "      <td>0.38</td>\n",
       "      <td>157.34</td>\n",
       "      <td>302.575</td>\n",
       "      <td>469.57</td>\n",
       "      <td>168469.6</td>\n",
       "    </tr>\n",
       "  </tbody>\n",
       "</table>\n",
       "</div>"
      ],
      "text/plain": [
       "            count       mean          std   min     25%      50%     75%  \\\n",
       "Quantity  18532.0  278.00572   972.389641  1.00   74.00  154.000  290.00   \n",
       "SumPrice  18532.0  479.56016  1678.082580  0.38  157.34  302.575  469.57   \n",
       "\n",
       "               max  \n",
       "Quantity   80995.0  \n",
       "SumPrice  168469.6  "
      ]
     },
     "execution_count": 54,
     "metadata": {},
     "output_type": "execute_result"
    }
   ],
   "source": [
    "invoice_grouped.describe().T"
   ]
  },
  {
   "cell_type": "markdown",
   "id": "480a36de",
   "metadata": {},
   "source": [
    "* A total of 18,532 valid orders were generated within the statistical period (From December 1, 2010 to December 9, 2011)\n",
    "\n",
    "* The average transaction value per order was £479.56, and the average number of items purchased per order was about 278, indicating that orders were mainly wholesale\n",
    "\n",
    "* The mean value of order transaction amount and the number of goods in the order are both higher than the median, and the mean value of order transaction amount is even higher than Q3 quantile, **indicating that the overall difference of orders is large, and there are some customers with strong purchasing power**"
   ]
  },
  {
   "cell_type": "markdown",
   "id": "2b1730d8",
   "metadata": {},
   "source": [
    "#### 2.1.2 Check Customer Information"
   ]
  },
  {
   "cell_type": "markdown",
   "id": "ebbe60bb",
   "metadata": {},
   "source": [
    "Count the order quantity, consumption amount and purchase quantity of each customer.\n",
    "\n",
    "Common methods:\n",
    "\n",
    "(1) Group by customer ID and order number\n",
    "\n",
    "(2) Sum up the quantity and sales amount of the same order;\n",
    "\n",
    "(3) reset_index; Finally, group them by customer ID:"
   ]
  },
  {
   "cell_type": "code",
   "execution_count": 63,
   "id": "6848664d",
   "metadata": {},
   "outputs": [],
   "source": [
    "#(1) Group by customer ID and order number\n",
    "\n",
    "#(2) Sum up the quantity and sales amount of the same order;\n",
    "customer_grouped=sales_success.groupby(['CustomerID','InvoiceNo'])[['Quantity', 'SumPrice']].sum()"
   ]
  },
  {
   "cell_type": "code",
   "execution_count": 64,
   "id": "b952c3b0",
   "metadata": {},
   "outputs": [
    {
     "data": {
      "text/html": [
       "<div>\n",
       "<style scoped>\n",
       "    .dataframe tbody tr th:only-of-type {\n",
       "        vertical-align: middle;\n",
       "    }\n",
       "\n",
       "    .dataframe tbody tr th {\n",
       "        vertical-align: top;\n",
       "    }\n",
       "\n",
       "    .dataframe thead th {\n",
       "        text-align: right;\n",
       "    }\n",
       "</style>\n",
       "<table border=\"1\" class=\"dataframe\">\n",
       "  <thead>\n",
       "    <tr style=\"text-align: right;\">\n",
       "      <th></th>\n",
       "      <th>InvoiceNo</th>\n",
       "      <th>Quantity</th>\n",
       "      <th>SumPrice</th>\n",
       "    </tr>\n",
       "    <tr>\n",
       "      <th>CustomerID</th>\n",
       "      <th></th>\n",
       "      <th></th>\n",
       "      <th></th>\n",
       "    </tr>\n",
       "  </thead>\n",
       "  <tbody>\n",
       "    <tr>\n",
       "      <th>12346</th>\n",
       "      <td>541431</td>\n",
       "      <td>74215</td>\n",
       "      <td>77183.6</td>\n",
       "    </tr>\n",
       "    <tr>\n",
       "      <th>12347</th>\n",
       "      <td>537626</td>\n",
       "      <td>319</td>\n",
       "      <td>711.79</td>\n",
       "    </tr>\n",
       "    <tr>\n",
       "      <th>12347</th>\n",
       "      <td>542237</td>\n",
       "      <td>315</td>\n",
       "      <td>475.39</td>\n",
       "    </tr>\n",
       "    <tr>\n",
       "      <th>12347</th>\n",
       "      <td>549222</td>\n",
       "      <td>483</td>\n",
       "      <td>636.25</td>\n",
       "    </tr>\n",
       "    <tr>\n",
       "      <th>12347</th>\n",
       "      <td>556201</td>\n",
       "      <td>196</td>\n",
       "      <td>382.52</td>\n",
       "    </tr>\n",
       "  </tbody>\n",
       "</table>\n",
       "</div>"
      ],
      "text/plain": [
       "           InvoiceNo  Quantity  SumPrice\n",
       "CustomerID                              \n",
       "12346         541431     74215   77183.6\n",
       "12347         537626       319    711.79\n",
       "12347         542237       315    475.39\n",
       "12347         549222       483    636.25\n",
       "12347         556201       196    382.52"
      ]
     },
     "execution_count": 64,
     "metadata": {},
     "output_type": "execute_result"
    }
   ],
   "source": [
    "#(3) reset_index; \n",
    "customer_grouped.reset_index(['InvoiceNo'],inplace=True) \n",
    "customer_grouped.head() \n"
   ]
  },
  {
   "cell_type": "code",
   "execution_count": 67,
   "id": "eff6e798",
   "metadata": {},
   "outputs": [
    {
     "data": {
      "text/html": [
       "<div>\n",
       "<style scoped>\n",
       "    .dataframe tbody tr th:only-of-type {\n",
       "        vertical-align: middle;\n",
       "    }\n",
       "\n",
       "    .dataframe tbody tr th {\n",
       "        vertical-align: top;\n",
       "    }\n",
       "\n",
       "    .dataframe thead th {\n",
       "        text-align: right;\n",
       "    }\n",
       "</style>\n",
       "<table border=\"1\" class=\"dataframe\">\n",
       "  <thead>\n",
       "    <tr style=\"text-align: right;\">\n",
       "      <th></th>\n",
       "      <th>Quantity</th>\n",
       "      <th>SumPrice</th>\n",
       "    </tr>\n",
       "  </thead>\n",
       "  <tbody>\n",
       "    <tr>\n",
       "      <th>count</th>\n",
       "      <td>4338.000000</td>\n",
       "      <td>4338.000000</td>\n",
       "    </tr>\n",
       "    <tr>\n",
       "      <th>mean</th>\n",
       "      <td>1187.644537</td>\n",
       "      <td>2048.688081</td>\n",
       "    </tr>\n",
       "    <tr>\n",
       "      <th>std</th>\n",
       "      <td>5043.619654</td>\n",
       "      <td>8985.230220</td>\n",
       "    </tr>\n",
       "    <tr>\n",
       "      <th>min</th>\n",
       "      <td>1.000000</td>\n",
       "      <td>3.750000</td>\n",
       "    </tr>\n",
       "    <tr>\n",
       "      <th>25%</th>\n",
       "      <td>159.000000</td>\n",
       "      <td>306.482500</td>\n",
       "    </tr>\n",
       "    <tr>\n",
       "      <th>50%</th>\n",
       "      <td>378.000000</td>\n",
       "      <td>668.570000</td>\n",
       "    </tr>\n",
       "    <tr>\n",
       "      <th>75%</th>\n",
       "      <td>989.750000</td>\n",
       "      <td>1660.597500</td>\n",
       "    </tr>\n",
       "    <tr>\n",
       "      <th>max</th>\n",
       "      <td>196915.000000</td>\n",
       "      <td>280206.020000</td>\n",
       "    </tr>\n",
       "  </tbody>\n",
       "</table>\n",
       "</div>"
      ],
      "text/plain": [
       "            Quantity       SumPrice\n",
       "count    4338.000000    4338.000000\n",
       "mean     1187.644537    2048.688081\n",
       "std      5043.619654    8985.230220\n",
       "min         1.000000       3.750000\n",
       "25%       159.000000     306.482500\n",
       "50%       378.000000     668.570000\n",
       "75%       989.750000    1660.597500\n",
       "max    196915.000000  280206.020000"
      ]
     },
     "execution_count": 67,
     "metadata": {},
     "output_type": "execute_result"
    }
   ],
   "source": [
    "#Finally, group them by customer ID:\n",
    "customer_grouped.groupby('CustomerID')[['Quantity', 'SumPrice']].sum().describe()"
   ]
  },
  {
   "cell_type": "code",
   "execution_count": 68,
   "id": "1f72e6f9",
   "metadata": {},
   "outputs": [
    {
     "data": {
      "text/html": [
       "<div>\n",
       "<style scoped>\n",
       "    .dataframe tbody tr th:only-of-type {\n",
       "        vertical-align: middle;\n",
       "    }\n",
       "\n",
       "    .dataframe tbody tr th {\n",
       "        vertical-align: top;\n",
       "    }\n",
       "\n",
       "    .dataframe thead th {\n",
       "        text-align: right;\n",
       "    }\n",
       "</style>\n",
       "<table border=\"1\" class=\"dataframe\">\n",
       "  <thead>\n",
       "    <tr style=\"text-align: right;\">\n",
       "      <th></th>\n",
       "      <th>InvoiceNo</th>\n",
       "    </tr>\n",
       "  </thead>\n",
       "  <tbody>\n",
       "    <tr>\n",
       "      <th>count</th>\n",
       "      <td>4338.000000</td>\n",
       "    </tr>\n",
       "    <tr>\n",
       "      <th>mean</th>\n",
       "      <td>4.272015</td>\n",
       "    </tr>\n",
       "    <tr>\n",
       "      <th>std</th>\n",
       "      <td>7.697998</td>\n",
       "    </tr>\n",
       "    <tr>\n",
       "      <th>min</th>\n",
       "      <td>1.000000</td>\n",
       "    </tr>\n",
       "    <tr>\n",
       "      <th>25%</th>\n",
       "      <td>1.000000</td>\n",
       "    </tr>\n",
       "    <tr>\n",
       "      <th>50%</th>\n",
       "      <td>2.000000</td>\n",
       "    </tr>\n",
       "    <tr>\n",
       "      <th>75%</th>\n",
       "      <td>5.000000</td>\n",
       "    </tr>\n",
       "    <tr>\n",
       "      <th>max</th>\n",
       "      <td>209.000000</td>\n",
       "    </tr>\n",
       "  </tbody>\n",
       "</table>\n",
       "</div>"
      ],
      "text/plain": [
       "         InvoiceNo\n",
       "count  4338.000000\n",
       "mean      4.272015\n",
       "std       7.697998\n",
       "min       1.000000\n",
       "25%       1.000000\n",
       "50%       2.000000\n",
       "75%       5.000000\n",
       "max     209.000000"
      ]
     },
     "execution_count": 68,
     "metadata": {},
     "output_type": "execute_result"
    }
   ],
   "source": [
    "customer_grouped.groupby('CustomerID')[['InvoiceNo']].count().describe()"
   ]
  },
  {
   "cell_type": "markdown",
   "id": "2b104078",
   "metadata": {},
   "source": [
    "The average purchase per customer was 1,187 items, even exceeding the Q3 quartile of 989.7 items. The largest number of items purchased by customers was 196,915; At £2,049, the average also exceeded the Q3 quantile.\n",
    "\n",
    "**It shows that there is a big gap in purchasing power of customers, and a small number of high-consumption users have raised the per capita value.**\n",
    "\n",
    "The average order number of purchases for each customer was 4, and the median was 2. More than 25% of customers only placed an order once and did not retain it."
   ]
  },
  {
   "cell_type": "markdown",
   "id": "45a84a0a",
   "metadata": {},
   "source": [
    "#### 2.1.3 Check Product Information"
   ]
  },
  {
   "cell_type": "markdown",
   "id": "d7154c22",
   "metadata": {},
   "source": [
    "First, group the products according to the product number, sum the quantity and total price respectively, that is, get the total sales amount and total sales volume of the corresponding products, take the quotient to get the average price:"
   ]
  },
  {
   "cell_type": "code",
   "execution_count": 69,
   "id": "04fba18c",
   "metadata": {},
   "outputs": [
    {
     "data": {
      "text/html": [
       "<div>\n",
       "<style scoped>\n",
       "    .dataframe tbody tr th:only-of-type {\n",
       "        vertical-align: middle;\n",
       "    }\n",
       "\n",
       "    .dataframe tbody tr th {\n",
       "        vertical-align: top;\n",
       "    }\n",
       "\n",
       "    .dataframe thead th {\n",
       "        text-align: right;\n",
       "    }\n",
       "</style>\n",
       "<table border=\"1\" class=\"dataframe\">\n",
       "  <thead>\n",
       "    <tr style=\"text-align: right;\">\n",
       "      <th></th>\n",
       "      <th>Quantity</th>\n",
       "      <th>SumPrice</th>\n",
       "      <th>AvgPrice</th>\n",
       "    </tr>\n",
       "    <tr>\n",
       "      <th>StockCode</th>\n",
       "      <th></th>\n",
       "      <th></th>\n",
       "      <th></th>\n",
       "    </tr>\n",
       "  </thead>\n",
       "  <tbody>\n",
       "    <tr>\n",
       "      <th>10002</th>\n",
       "      <td>823</td>\n",
       "      <td>699.55</td>\n",
       "      <td>0.85</td>\n",
       "    </tr>\n",
       "    <tr>\n",
       "      <th>10080</th>\n",
       "      <td>291</td>\n",
       "      <td>114.41</td>\n",
       "      <td>0.393162</td>\n",
       "    </tr>\n",
       "    <tr>\n",
       "      <th>10120</th>\n",
       "      <td>192</td>\n",
       "      <td>40.32</td>\n",
       "      <td>0.21</td>\n",
       "    </tr>\n",
       "    <tr>\n",
       "      <th>10123C</th>\n",
       "      <td>5</td>\n",
       "      <td>3.25</td>\n",
       "      <td>0.65</td>\n",
       "    </tr>\n",
       "    <tr>\n",
       "      <th>10124A</th>\n",
       "      <td>16</td>\n",
       "      <td>6.72</td>\n",
       "      <td>0.42</td>\n",
       "    </tr>\n",
       "  </tbody>\n",
       "</table>\n",
       "</div>"
      ],
      "text/plain": [
       "           Quantity  SumPrice  AvgPrice\n",
       "StockCode                              \n",
       "10002           823    699.55      0.85\n",
       "10080           291    114.41  0.393162\n",
       "10120           192     40.32      0.21\n",
       "10123C            5      3.25      0.65\n",
       "10124A           16      6.72      0.42"
      ]
     },
     "execution_count": 69,
     "metadata": {},
     "output_type": "execute_result"
    }
   ],
   "source": [
    "goods_grouped = sales_success.groupby('StockCode')[['Quantity', 'SumPrice']].sum()\n",
    "goods_grouped['AvgPrice'] = goods_grouped['SumPrice'] / goods_grouped['Quantity']\n",
    "goods_grouped.head()\n"
   ]
  },
  {
   "cell_type": "markdown",
   "id": "62008e39",
   "metadata": {},
   "source": [
    "Check the distribution of avg prices for all items and observe the price positioning of the store:"
   ]
  },
  {
   "cell_type": "code",
   "execution_count": 71,
   "id": "d809e7fe",
   "metadata": {},
   "outputs": [
    {
     "data": {
      "image/png": "[encoded data removed]",
      "text/plain": [
       "<Figure size 432x288 with 1 Axes>"
      ]
     },
     "metadata": {
      "needs_background": "light"
     },
     "output_type": "display_data"
    }
   ],
   "source": [
    "import matplotlib.pyplot as plt\n",
    "goods_grouped.AvgPrice.hist(bins=100)\n",
    "plt.title('AvgPrice Distribution')\n",
    "plt.ylabel('Frequency')\n",
    "plt.xlabel('AvgPrice')\n",
    "plt.show()"
   ]
  },
  {
   "cell_type": "markdown",
   "id": "18d1d5c9",
   "metadata": {},
   "source": [
    "It is found that the price of goods is basically concentrated within 100 pounds, and a very small number of sky-high goods are observed. After screened out sky-high goods, the average price distribution of goods within 100 pounds is observed:"
   ]
  },
  {
   "cell_type": "code",
   "execution_count": 72,
   "id": "4878a92e",
   "metadata": {},
   "outputs": [
    {
     "data": {
      "image/png": "[encoded data removed]",
      "text/plain": [
       "<Figure size 864x288 with 1 Axes>"
      ]
     },
     "metadata": {
      "needs_background": "light"
     },
     "output_type": "display_data"
    }
   ],
   "source": [
    "plt.figure()\n",
    "goods_grouped[goods_grouped.AvgPrice < 100].AvgPrice.hist(bins=100,figsize = (12, 4),color='g')\n",
    "plt.title('AvgPrice Distribution (Below 100)')\n",
    "plt.ylabel('Frequency')\n",
    "plt.xlabel('AvgPrice')\n",
    "plt.show()"
   ]
  },
  {
   "cell_type": "markdown",
   "id": "de06f13b",
   "metadata": {},
   "source": [
    "The peak value is 1-2 pounds, and the unit price of goods above 10 pounds is very rare. **It seems that the e-commerce is mainly positioned as a small commodity market with low prices.**\n",
    "\n",
    "Next look at the scatter chart of unit price and unit sales to see which price items are more popular:"
   ]
  },
  {
   "cell_type": "code",
   "execution_count": 73,
   "id": "6a1aaf08",
   "metadata": {},
   "outputs": [
    {
     "data": {
      "image/png": "[encoded data removed]",
      "text/plain": [
       "<Figure size 1008x288 with 2 Axes>"
      ]
     },
     "metadata": {
      "needs_background": "light"
     },
     "output_type": "display_data"
    }
   ],
   "source": [
    "# Scatter plot of unit price and quantity sold\n",
    "plt.figure(figsize=(14,4))\n",
    "plt.subplot(121)\n",
    "plt.scatter(goods_grouped['AvgPrice'], goods_grouped['Quantity'], color = 'b')\n",
    "plt.title('AvgPrice & Quantity')\n",
    "plt.ylabel('Quantity')\n",
    "plt.xlabel('AvgPrice')\n",
    "\n",
    "plt.subplot(122)\n",
    "plt.scatter(goods_grouped[goods_grouped.AvgPrice < 50]['AvgPrice'], goods_grouped[goods_grouped.AvgPrice < 50]['Quantity'], color = 'b')\n",
    "plt.title('AvgPrice & Quantity (AvgPrice < 50)')\n",
    "plt.ylabel('Quantity')\n",
    "plt.xlabel('AvgPrice')\n",
    "plt.show()"
   ]
  },
  {
   "cell_type": "markdown",
   "id": "a92c6863",
   "metadata": {},
   "source": [
    "**Judging from the sales quantity of the products, there is no doubt that the products in the low-price area under 5 pounds are favored by customers.**"
   ]
  },
  {
   "cell_type": "markdown",
   "id": "c4290036",
   "metadata": {},
   "source": [
    "So do the cheaper items actually lead to the most sales? Plot the scatter plot of unit price and total sales:"
   ]
  },
  {
   "cell_type": "code",
   "execution_count": 74,
   "id": "2917f3ae",
   "metadata": {},
   "outputs": [
    {
     "data": {
      "image/png": "[encoded data removed]",
      "text/plain": [
       "<Figure size 1008x288 with 2 Axes>"
      ]
     },
     "metadata": {
      "needs_background": "light"
     },
     "output_type": "display_data"
    }
   ],
   "source": [
    "plt.figure(figsize=(14,4))\n",
    "plt.subplot(121)\n",
    "plt.scatter(goods_grouped['AvgPrice'], goods_grouped['SumPrice'], color = 'b')\n",
    "plt.title('AvgPrice & SumPrice')\n",
    "plt.ylabel('SumPrice')\n",
    "plt.xlabel('AvgPrice')\n",
    "\n",
    "plt.subplot(122)\n",
    "plt.scatter(goods_grouped[goods_grouped.AvgPrice < 50]['AvgPrice'], goods_grouped[goods_grouped.AvgPrice < 50]['SumPrice'], color = 'b')\n",
    "plt.title('AvgPrice & SumPrice (AvgPrice < 50)')\n",
    "plt.ylabel('SumPrice')\n",
    "plt.xlabel('AvgPrice')\n",
    "plt.show()"
   ]
  },
  {
   "cell_type": "markdown",
   "id": "0d805c7c",
   "metadata": {},
   "source": [
    "Low-price area of goods not only in the number of sales, but also constitute the main part of sales; High-priced items, with high unit prices but low sales, didn't bring in much sales. \n",
    "\n",
    "**Suggestion:** It is suggested that the procurement department of the platform can select more products priced below 10 pounds to further expand the category of low-price area."
   ]
  },
  {
   "cell_type": "markdown",
   "id": "defe8c5c",
   "metadata": {},
   "source": [
    "## 2.2 Analysis of Customer Consumption Behavior"
   ]
  },
  {
   "cell_type": "markdown",
   "id": "4c2101f2",
   "metadata": {},
   "source": [
    "#### 2.2.1 Customer life cycle"
   ]
  },
  {
   "cell_type": "markdown",
   "id": "3e73be35",
   "metadata": {},
   "source": [
    "In fact, many of the customers in the sample did not complete their life cycle, and we do not know whether they made purchases before the statistical period, nor which of them will continue to make purchases after the statistical period. So the life cycle calculated here is limited, and the real average customer life cycle is necessarily longer."
   ]
  },
  {
   "cell_type": "code",
   "execution_count": 78,
   "id": "772228ea",
   "metadata": {},
   "outputs": [],
   "source": [
    "#View the user's first and last (most recent) consumption time:\n",
    "#View the user's first consumption time:\n",
    "mindate=df_initial.groupby('CustomerID')[['Date']].min()"
   ]
  },
  {
   "cell_type": "code",
   "execution_count": 76,
   "id": "c2a60666",
   "metadata": {
    "scrolled": true
   },
   "outputs": [
    {
     "data": {
      "text/html": [
       "<div>\n",
       "<style scoped>\n",
       "    .dataframe tbody tr th:only-of-type {\n",
       "        vertical-align: middle;\n",
       "    }\n",
       "\n",
       "    .dataframe tbody tr th {\n",
       "        vertical-align: top;\n",
       "    }\n",
       "\n",
       "    .dataframe thead th {\n",
       "        text-align: right;\n",
       "    }\n",
       "</style>\n",
       "<table border=\"1\" class=\"dataframe\">\n",
       "  <thead>\n",
       "    <tr style=\"text-align: right;\">\n",
       "      <th></th>\n",
       "      <th>Date</th>\n",
       "    </tr>\n",
       "    <tr>\n",
       "      <th>CustomerID</th>\n",
       "      <th></th>\n",
       "    </tr>\n",
       "  </thead>\n",
       "  <tbody>\n",
       "    <tr>\n",
       "      <th>12346</th>\n",
       "      <td>2011-01-18</td>\n",
       "    </tr>\n",
       "    <tr>\n",
       "      <th>12347</th>\n",
       "      <td>2010-12-07</td>\n",
       "    </tr>\n",
       "    <tr>\n",
       "      <th>12348</th>\n",
       "      <td>2010-12-16</td>\n",
       "    </tr>\n",
       "    <tr>\n",
       "      <th>12349</th>\n",
       "      <td>2011-11-21</td>\n",
       "    </tr>\n",
       "    <tr>\n",
       "      <th>12350</th>\n",
       "      <td>2011-02-02</td>\n",
       "    </tr>\n",
       "    <tr>\n",
       "      <th>...</th>\n",
       "      <td>...</td>\n",
       "    </tr>\n",
       "    <tr>\n",
       "      <th>18280</th>\n",
       "      <td>2011-03-07</td>\n",
       "    </tr>\n",
       "    <tr>\n",
       "      <th>18281</th>\n",
       "      <td>2011-06-12</td>\n",
       "    </tr>\n",
       "    <tr>\n",
       "      <th>18282</th>\n",
       "      <td>2011-08-05</td>\n",
       "    </tr>\n",
       "    <tr>\n",
       "      <th>18283</th>\n",
       "      <td>2011-01-06</td>\n",
       "    </tr>\n",
       "    <tr>\n",
       "      <th>18287</th>\n",
       "      <td>2011-05-22</td>\n",
       "    </tr>\n",
       "  </tbody>\n",
       "</table>\n",
       "<p>4372 rows × 1 columns</p>\n",
       "</div>"
      ],
      "text/plain": [
       "                 Date\n",
       "CustomerID           \n",
       "12346      2011-01-18\n",
       "12347      2010-12-07\n",
       "12348      2010-12-16\n",
       "12349      2011-11-21\n",
       "12350      2011-02-02\n",
       "...               ...\n",
       "18280      2011-03-07\n",
       "18281      2011-06-12\n",
       "18282      2011-08-05\n",
       "18283      2011-01-06\n",
       "18287      2011-05-22\n",
       "\n",
       "[4372 rows x 1 columns]"
      ]
     },
     "execution_count": 76,
     "metadata": {},
     "output_type": "execute_result"
    }
   ],
   "source": [
    "mindate"
   ]
  },
  {
   "cell_type": "code",
   "execution_count": null,
   "id": "5dcdd416",
   "metadata": {},
   "outputs": [],
   "source": [
    "#View the user's last consumption time:"
   ]
  },
  {
   "cell_type": "code",
   "execution_count": 79,
   "id": "deb5be69",
   "metadata": {},
   "outputs": [],
   "source": [
    "maxdate=df_initial.groupby('CustomerID')[['Date']].max()"
   ]
  },
  {
   "cell_type": "code",
   "execution_count": 82,
   "id": "8b516ff3",
   "metadata": {},
   "outputs": [
    {
     "data": {
      "text/plain": [
       "2010-12-02    108\n",
       "2010-12-01     98\n",
       "2010-12-08     87\n",
       "2010-12-09     83\n",
       "2010-12-06     76\n",
       "2010-12-05     68\n",
       "2010-12-16     58\n",
       "2010-12-07     53\n",
       "2010-12-03     49\n",
       "2010-12-15     49\n",
       "Name: Date, dtype: int64"
      ]
     },
     "execution_count": 82,
     "metadata": {},
     "output_type": "execute_result"
    }
   ],
   "source": [
    "#To see which dates the user focused their first/last purchases:\n",
    "mindate['Date'].value_counts().head(10)"
   ]
  },
  {
   "cell_type": "code",
   "execution_count": 83,
   "id": "45713712",
   "metadata": {},
   "outputs": [
    {
     "data": {
      "text/plain": [
       "2011-12-08    116\n",
       "2011-12-06    113\n",
       "2011-12-01    105\n",
       "2011-12-05     97\n",
       "2011-12-07     95\n",
       "2011-11-30     82\n",
       "2011-12-02     75\n",
       "2011-11-29     75\n",
       "2011-11-22     73\n",
       "2011-11-17     62\n",
       "Name: Date, dtype: int64"
      ]
     },
     "execution_count": 83,
     "metadata": {},
     "output_type": "execute_result"
    }
   ],
   "source": [
    "maxdate['Date'].value_counts().head(10)\n"
   ]
  },
  {
   "cell_type": "markdown",
   "id": "d47dc8a7",
   "metadata": {},
   "source": [
    "It was found that the high frequency date of the first consumption was at the beginning of the statistical period, and the high frequency date of the last consumption was at the end of the statistical period. It means that there are a lot of users whose life cycles are underestimated and actually stretch backwards and forwards.\n",
    "\n",
    "The life cycle within the statistical period is obtained by subtracting the date of the last consumption from the date of the first consumption, showing the first 5 lines:"
   ]
  },
  {
   "cell_type": "code",
   "execution_count": 84,
   "id": "814b65eb",
   "metadata": {},
   "outputs": [
    {
     "data": {
      "text/html": [
       "<div>\n",
       "<style scoped>\n",
       "    .dataframe tbody tr th:only-of-type {\n",
       "        vertical-align: middle;\n",
       "    }\n",
       "\n",
       "    .dataframe tbody tr th {\n",
       "        vertical-align: top;\n",
       "    }\n",
       "\n",
       "    .dataframe thead th {\n",
       "        text-align: right;\n",
       "    }\n",
       "</style>\n",
       "<table border=\"1\" class=\"dataframe\">\n",
       "  <thead>\n",
       "    <tr style=\"text-align: right;\">\n",
       "      <th></th>\n",
       "      <th>Date</th>\n",
       "    </tr>\n",
       "    <tr>\n",
       "      <th>CustomerID</th>\n",
       "      <th></th>\n",
       "    </tr>\n",
       "  </thead>\n",
       "  <tbody>\n",
       "    <tr>\n",
       "      <th>12346</th>\n",
       "      <td>0 days</td>\n",
       "    </tr>\n",
       "    <tr>\n",
       "      <th>12347</th>\n",
       "      <td>365 days</td>\n",
       "    </tr>\n",
       "    <tr>\n",
       "      <th>12348</th>\n",
       "      <td>283 days</td>\n",
       "    </tr>\n",
       "    <tr>\n",
       "      <th>12349</th>\n",
       "      <td>0 days</td>\n",
       "    </tr>\n",
       "    <tr>\n",
       "      <th>12350</th>\n",
       "      <td>0 days</td>\n",
       "    </tr>\n",
       "  </tbody>\n",
       "</table>\n",
       "</div>"
      ],
      "text/plain": [
       "               Date\n",
       "CustomerID         \n",
       "12346        0 days\n",
       "12347      365 days\n",
       "12348      283 days\n",
       "12349        0 days\n",
       "12350        0 days"
      ]
     },
     "execution_count": 84,
     "metadata": {},
     "output_type": "execute_result"
    }
   ],
   "source": [
    "(maxdate - mindate).head()"
   ]
  },
  {
   "cell_type": "markdown",
   "id": "8643befe",
   "metadata": {},
   "source": [
    "0 days Indicates that the customer spends money only on a day.\n",
    "\n",
    "Take another look at the overall customer life cycle:"
   ]
  },
  {
   "cell_type": "code",
   "execution_count": 85,
   "id": "e2574b74",
   "metadata": {},
   "outputs": [
    {
     "data": {
      "text/html": [
       "<div>\n",
       "<style scoped>\n",
       "    .dataframe tbody tr th:only-of-type {\n",
       "        vertical-align: middle;\n",
       "    }\n",
       "\n",
       "    .dataframe tbody tr th {\n",
       "        vertical-align: top;\n",
       "    }\n",
       "\n",
       "    .dataframe thead th {\n",
       "        text-align: right;\n",
       "    }\n",
       "</style>\n",
       "<table border=\"1\" class=\"dataframe\">\n",
       "  <thead>\n",
       "    <tr style=\"text-align: right;\">\n",
       "      <th></th>\n",
       "      <th>Date</th>\n",
       "    </tr>\n",
       "  </thead>\n",
       "  <tbody>\n",
       "    <tr>\n",
       "      <th>count</th>\n",
       "      <td>4372</td>\n",
       "    </tr>\n",
       "    <tr>\n",
       "      <th>mean</th>\n",
       "      <td>133 days 17:21:08.069533394</td>\n",
       "    </tr>\n",
       "    <tr>\n",
       "      <th>std</th>\n",
       "      <td>133 days 00:00:40.912806660</td>\n",
       "    </tr>\n",
       "    <tr>\n",
       "      <th>min</th>\n",
       "      <td>0 days 00:00:00</td>\n",
       "    </tr>\n",
       "    <tr>\n",
       "      <th>25%</th>\n",
       "      <td>0 days 00:00:00</td>\n",
       "    </tr>\n",
       "    <tr>\n",
       "      <th>50%</th>\n",
       "      <td>98 days 00:00:00</td>\n",
       "    </tr>\n",
       "    <tr>\n",
       "      <th>75%</th>\n",
       "      <td>256 days 00:00:00</td>\n",
       "    </tr>\n",
       "    <tr>\n",
       "      <th>max</th>\n",
       "      <td>373 days 00:00:00</td>\n",
       "    </tr>\n",
       "  </tbody>\n",
       "</table>\n",
       "</div>"
      ],
      "text/plain": [
       "                              Date\n",
       "count                         4372\n",
       "mean   133 days 17:21:08.069533394\n",
       "std    133 days 00:00:40.912806660\n",
       "min                0 days 00:00:00\n",
       "25%                0 days 00:00:00\n",
       "50%               98 days 00:00:00\n",
       "75%              256 days 00:00:00\n",
       "max              373 days 00:00:00"
      ]
     },
     "execution_count": 85,
     "metadata": {},
     "output_type": "execute_result"
    }
   ],
   "source": [
    "life_time = maxdate - mindate\n",
    "life_time.describe()"
   ]
  },
  {
   "cell_type": "markdown",
   "id": "2b8c2531",
   "metadata": {},
   "source": [
    "There were 4372 customers with CustomerID, and the average life cycle was 133 days and the median was 98 days, indicating that some loyal customers with a long life cycle pushed up the average value. However, both the minimum value and Q1 quantile are 0 days, indicating that more than 25% customers consume only once, and the distribution of life cycle is polarized.\n",
    "\n",
    "Next, draw a bar chart to see the actual distribution of the customer life cycle.\n",
    "\n",
    "The time difference here is of type Timedelta and cannot be plotted on a bar chart. Convert it to a value first:"
   ]
  },
  {
   "cell_type": "code",
   "execution_count": 86,
   "id": "c61eb4b0",
   "metadata": {},
   "outputs": [],
   "source": [
    "life_time['life_time'] = life_time['Date'].dt.days  # .dt.days提取出来就是数值了！"
   ]
  },
  {
   "cell_type": "code",
   "execution_count": 87,
   "id": "64b6c628",
   "metadata": {},
   "outputs": [
    {
     "data": {
      "image/png": "[encoded data removed]",
      "text/plain": [
       "<Figure size 432x288 with 1 Axes>"
      ]
     },
     "metadata": {
      "needs_background": "light"
     },
     "output_type": "display_data"
    }
   ],
   "source": [
    "life_time['life_time'].hist(bins=20, color='g')\n",
    "plt.title('Life Time Distribution')\n",
    "plt.ylabel('Customer number')\n",
    "plt.xlabel('Life time (days)')\n",
    "plt.show()"
   ]
  },
  {
   "cell_type": "markdown",
   "id": "7216e1f3",
   "metadata": {},
   "source": [
    "The abscissa represents the number of days in the life cycle, and the ordinate represents the number of customers in the life cycle.\n",
    "\n",
    "Many customers only consume once and are not retained. Therefore, we need to pay more attention to customers' first purchase experience. We can learn about the dissatisfaction of new customers in the purchase process through service evaluation and customer service telephone inquiry, and make targeted improvements. At the same time, new customers should adopt measures to attract second purchases, such as issuing time-limited coupons. Interestingly, a sub-peak occurs around 350 days, so let's exclude customers with a life cycle of 0 days and look at the distribution:\n",
    "\n",
    "Increase the group size to 100 and widen the size of the diagram"
   ]
  },
  {
   "cell_type": "code",
   "execution_count": 88,
   "id": "3705e860",
   "metadata": {},
   "outputs": [
    {
     "data": {
      "image/png": "[encoded data removed]",
      "text/plain": [
       "<Figure size 864x432 with 1 Axes>"
      ]
     },
     "metadata": {
      "needs_background": "light"
     },
     "output_type": "display_data"
    }
   ],
   "source": [
    "plt.figure()\n",
    "life_time[life_time['life_time'] > 0].life_time.hist(bins = 100, figsize = (12, 6), color = 'g')\n",
    "plt.title('Life Time Distribution without One-time Deal Hunters')\n",
    "plt.ylabel('Customer number')\n",
    "plt.xlabel('Life time (days)')\n",
    "plt.show()"
   ]
  },
  {
   "cell_type": "markdown",
   "id": "84ce7366",
   "metadata": {},
   "source": [
    "Average lifetime of users who spend twice or more:"
   ]
  },
  {
   "cell_type": "code",
   "execution_count": 89,
   "id": "cc1c62f8",
   "metadata": {},
   "outputs": [
    {
     "data": {
      "text/plain": [
       "195.4653961885657"
      ]
     },
     "execution_count": 89,
     "metadata": {},
     "output_type": "execute_result"
    }
   ],
   "source": [
    "life_time[life_time['life_time']>0].life_time.mean()"
   ]
  },
  {
   "cell_type": "markdown",
   "id": "b7a33376",
   "metadata": {},
   "source": [
    "The average life span of users who made two or more purchases was 195 days, much higher than the population average of 133 days. From the perspective of strategy, users should spend more energy to guide them to make multiple consumption after the first consumption, which can effectively improve the life cycle"
   ]
  },
  {
   "cell_type": "markdown",
   "id": "5bade03d",
   "metadata": {},
   "source": [
    "#### 2.2.1 Customer retention"
   ]
  },
  {
   "cell_type": "code",
   "execution_count": 172,
   "id": "596f2205",
   "metadata": {},
   "outputs": [],
   "source": [
    "customer_retention = pd.merge(df_initial, mindate, left_on='CustomerID', right_index=True, how='inner', suffixes=('','Min'))"
   ]
  },
  {
   "cell_type": "code",
   "execution_count": 175,
   "id": "6cc8f43d",
   "metadata": {},
   "outputs": [],
   "source": [
    "customer_retention['DateDiff'] = (customer_retention.Date - customer_retention.DateMin).dt.days"
   ]
  },
  {
   "cell_type": "code",
   "execution_count": 150,
   "id": "251205f2",
   "metadata": {},
   "outputs": [
    {
     "data": {
      "text/plain": [
       "(90, 180]    76333\n",
       "(30, 60]     29066\n",
       "(60, 90]     26449\n",
       "(7, 30]      18577\n",
       "(3, 7]        4128\n",
       "(0, 3]        1855\n",
       "Name: DateDiffBin, dtype: int64"
      ]
     },
     "execution_count": 150,
     "metadata": {},
     "output_type": "execute_result"
    }
   ],
   "source": [
    "date_bins = [0, 3, 7, 30, 60, 90, 180]\n",
    "customer_retention['DateDiffBin'] = pd.cut(customer_retention.DateDiff, bins = date_bins)\n",
    "customer_retention['DateDiffBin'].value_counts()"
   ]
  },
  {
   "cell_type": "code",
   "execution_count": 164,
   "id": "96eaa1ba",
   "metadata": {
    "scrolled": true
   },
   "outputs": [
    {
     "name": "stdout",
     "output_type": "stream",
     "text": [
      "            SumPrice                                           \n",
      "DateDiffBin   (0, 3] (3, 7] (7, 30] (30, 60] (60, 90] (90, 180]\n",
      "CustomerID                                                     \n",
      "12347            0.0    0.0     0.0   475.39      0.0    636.25\n",
      "12348            0.0    0.0     0.0   227.44      0.0     367.0\n",
      "12352            0.0    0.0  264.68     40.0      0.0       0.0\n",
      "12356            0.0    0.0     0.0      0.0   481.46       0.0\n",
      "12358            0.0    0.0     0.0      0.0      0.0     683.2\n",
      "...              ...    ...     ...      ...      ...       ...\n",
      "18276            0.0    0.0   -12.5      0.0      0.0       0.0\n",
      "18277            0.0    0.0     0.0      0.0      0.0       0.0\n",
      "18282            0.0  -1.45     0.0      0.0      0.0     77.84\n",
      "18283            0.0    0.0   105.3   100.95      0.0    497.34\n",
      "18287            0.0    0.0     0.0      0.0      0.0    1072.0\n",
      "\n",
      "[2991 rows x 6 columns]\n"
     ]
    }
   ],
   "source": [
    "retention_pivot = customer_retention.pivot_table(index = ['CustomerID'], columns = ['DateDiffBin'], values = ['SumPrice'], aggfunc= np.sum)\n",
    "print(retention_pivot)"
   ]
  },
  {
   "cell_type": "code",
   "execution_count": 165,
   "id": "0011fcbb",
   "metadata": {},
   "outputs": [
    {
     "data": {
      "text/html": [
       "<div>\n",
       "<style scoped>\n",
       "    .dataframe tbody tr th:only-of-type {\n",
       "        vertical-align: middle;\n",
       "    }\n",
       "\n",
       "    .dataframe tbody tr th {\n",
       "        vertical-align: top;\n",
       "    }\n",
       "\n",
       "    .dataframe thead th {\n",
       "        text-align: right;\n",
       "    }\n",
       "</style>\n",
       "<table border=\"1\" class=\"dataframe\">\n",
       "  <thead>\n",
       "    <tr style=\"text-align: right;\">\n",
       "      <th>DateDiffBin</th>\n",
       "      <th>(0, 3]</th>\n",
       "      <th>(3, 7]</th>\n",
       "      <th>(7, 30]</th>\n",
       "      <th>(30, 60]</th>\n",
       "      <th>(60, 90]</th>\n",
       "      <th>(90, 180]</th>\n",
       "    </tr>\n",
       "    <tr>\n",
       "      <th>CustomerID</th>\n",
       "      <th></th>\n",
       "      <th></th>\n",
       "      <th></th>\n",
       "      <th></th>\n",
       "      <th></th>\n",
       "      <th></th>\n",
       "    </tr>\n",
       "  </thead>\n",
       "  <tbody>\n",
       "    <tr>\n",
       "      <th>12347</th>\n",
       "      <td>0.0</td>\n",
       "      <td>0.0</td>\n",
       "      <td>0.0</td>\n",
       "      <td>475.39</td>\n",
       "      <td>0.0</td>\n",
       "      <td>636.25</td>\n",
       "    </tr>\n",
       "    <tr>\n",
       "      <th>12348</th>\n",
       "      <td>0.0</td>\n",
       "      <td>0.0</td>\n",
       "      <td>0.0</td>\n",
       "      <td>227.44</td>\n",
       "      <td>0.0</td>\n",
       "      <td>367.0</td>\n",
       "    </tr>\n",
       "    <tr>\n",
       "      <th>12352</th>\n",
       "      <td>0.0</td>\n",
       "      <td>0.0</td>\n",
       "      <td>264.68</td>\n",
       "      <td>40.0</td>\n",
       "      <td>0.0</td>\n",
       "      <td>0.0</td>\n",
       "    </tr>\n",
       "    <tr>\n",
       "      <th>12356</th>\n",
       "      <td>0.0</td>\n",
       "      <td>0.0</td>\n",
       "      <td>0.0</td>\n",
       "      <td>0.0</td>\n",
       "      <td>481.46</td>\n",
       "      <td>0.0</td>\n",
       "    </tr>\n",
       "    <tr>\n",
       "      <th>12358</th>\n",
       "      <td>0.0</td>\n",
       "      <td>0.0</td>\n",
       "      <td>0.0</td>\n",
       "      <td>0.0</td>\n",
       "      <td>0.0</td>\n",
       "      <td>683.2</td>\n",
       "    </tr>\n",
       "    <tr>\n",
       "      <th>...</th>\n",
       "      <td>...</td>\n",
       "      <td>...</td>\n",
       "      <td>...</td>\n",
       "      <td>...</td>\n",
       "      <td>...</td>\n",
       "      <td>...</td>\n",
       "    </tr>\n",
       "    <tr>\n",
       "      <th>18276</th>\n",
       "      <td>0.0</td>\n",
       "      <td>0.0</td>\n",
       "      <td>-12.5</td>\n",
       "      <td>0.0</td>\n",
       "      <td>0.0</td>\n",
       "      <td>0.0</td>\n",
       "    </tr>\n",
       "    <tr>\n",
       "      <th>18277</th>\n",
       "      <td>0.0</td>\n",
       "      <td>0.0</td>\n",
       "      <td>0.0</td>\n",
       "      <td>0.0</td>\n",
       "      <td>0.0</td>\n",
       "      <td>0.0</td>\n",
       "    </tr>\n",
       "    <tr>\n",
       "      <th>18282</th>\n",
       "      <td>0.0</td>\n",
       "      <td>-1.45</td>\n",
       "      <td>0.0</td>\n",
       "      <td>0.0</td>\n",
       "      <td>0.0</td>\n",
       "      <td>77.84</td>\n",
       "    </tr>\n",
       "    <tr>\n",
       "      <th>18283</th>\n",
       "      <td>0.0</td>\n",
       "      <td>0.0</td>\n",
       "      <td>105.3</td>\n",
       "      <td>100.95</td>\n",
       "      <td>0.0</td>\n",
       "      <td>497.34</td>\n",
       "    </tr>\n",
       "    <tr>\n",
       "      <th>18287</th>\n",
       "      <td>0.0</td>\n",
       "      <td>0.0</td>\n",
       "      <td>0.0</td>\n",
       "      <td>0.0</td>\n",
       "      <td>0.0</td>\n",
       "      <td>1072.0</td>\n",
       "    </tr>\n",
       "  </tbody>\n",
       "</table>\n",
       "<p>2991 rows × 6 columns</p>\n",
       "</div>"
      ],
      "text/plain": [
       "DateDiffBin  (0, 3]  (3, 7]  (7, 30]  (30, 60]  (60, 90]  (90, 180]\n",
       "CustomerID                                                         \n",
       "12347           0.0     0.0      0.0    475.39       0.0     636.25\n",
       "12348           0.0     0.0      0.0    227.44       0.0      367.0\n",
       "12352           0.0     0.0   264.68      40.0       0.0        0.0\n",
       "12356           0.0     0.0      0.0       0.0    481.46        0.0\n",
       "12358           0.0     0.0      0.0       0.0       0.0      683.2\n",
       "...             ...     ...      ...       ...       ...        ...\n",
       "18276           0.0     0.0    -12.5       0.0       0.0        0.0\n",
       "18277           0.0     0.0      0.0       0.0       0.0        0.0\n",
       "18282           0.0   -1.45      0.0       0.0       0.0      77.84\n",
       "18283           0.0     0.0    105.3    100.95       0.0     497.34\n",
       "18287           0.0     0.0      0.0       0.0       0.0     1072.0\n",
       "\n",
       "[2991 rows x 6 columns]"
      ]
     },
     "execution_count": 165,
     "metadata": {},
     "output_type": "execute_result"
    }
   ],
   "source": [
    "retention_pivot['SumPrice']"
   ]
  },
  {
   "cell_type": "code",
   "execution_count": 166,
   "id": "c758db5c",
   "metadata": {
    "scrolled": false
   },
   "outputs": [
    {
     "data": {
      "text/html": [
       "<div>\n",
       "<style scoped>\n",
       "    .dataframe tbody tr th:only-of-type {\n",
       "        vertical-align: middle;\n",
       "    }\n",
       "\n",
       "    .dataframe tbody tr th {\n",
       "        vertical-align: top;\n",
       "    }\n",
       "\n",
       "    .dataframe thead tr th {\n",
       "        text-align: left;\n",
       "    }\n",
       "\n",
       "    .dataframe thead tr:last-of-type th {\n",
       "        text-align: right;\n",
       "    }\n",
       "</style>\n",
       "<table border=\"1\" class=\"dataframe\">\n",
       "  <thead>\n",
       "    <tr>\n",
       "      <th></th>\n",
       "      <th colspan=\"6\" halign=\"left\">SumPrice</th>\n",
       "    </tr>\n",
       "    <tr>\n",
       "      <th>DateDiffBin</th>\n",
       "      <th>(0, 3]</th>\n",
       "      <th>(3, 7]</th>\n",
       "      <th>(7, 30]</th>\n",
       "      <th>(30, 60]</th>\n",
       "      <th>(60, 90]</th>\n",
       "      <th>(90, 180]</th>\n",
       "    </tr>\n",
       "    <tr>\n",
       "      <th>CustomerID</th>\n",
       "      <th></th>\n",
       "      <th></th>\n",
       "      <th></th>\n",
       "      <th></th>\n",
       "      <th></th>\n",
       "      <th></th>\n",
       "    </tr>\n",
       "  </thead>\n",
       "  <tbody>\n",
       "    <tr>\n",
       "      <th>12347</th>\n",
       "      <td>0</td>\n",
       "      <td>0</td>\n",
       "      <td>0</td>\n",
       "      <td>1</td>\n",
       "      <td>0</td>\n",
       "      <td>1</td>\n",
       "    </tr>\n",
       "    <tr>\n",
       "      <th>12348</th>\n",
       "      <td>0</td>\n",
       "      <td>0</td>\n",
       "      <td>0</td>\n",
       "      <td>1</td>\n",
       "      <td>0</td>\n",
       "      <td>1</td>\n",
       "    </tr>\n",
       "    <tr>\n",
       "      <th>12352</th>\n",
       "      <td>0</td>\n",
       "      <td>0</td>\n",
       "      <td>1</td>\n",
       "      <td>1</td>\n",
       "      <td>0</td>\n",
       "      <td>0</td>\n",
       "    </tr>\n",
       "    <tr>\n",
       "      <th>12356</th>\n",
       "      <td>0</td>\n",
       "      <td>0</td>\n",
       "      <td>0</td>\n",
       "      <td>0</td>\n",
       "      <td>1</td>\n",
       "      <td>0</td>\n",
       "    </tr>\n",
       "    <tr>\n",
       "      <th>12358</th>\n",
       "      <td>0</td>\n",
       "      <td>0</td>\n",
       "      <td>0</td>\n",
       "      <td>0</td>\n",
       "      <td>0</td>\n",
       "      <td>1</td>\n",
       "    </tr>\n",
       "    <tr>\n",
       "      <th>...</th>\n",
       "      <td>...</td>\n",
       "      <td>...</td>\n",
       "      <td>...</td>\n",
       "      <td>...</td>\n",
       "      <td>...</td>\n",
       "      <td>...</td>\n",
       "    </tr>\n",
       "    <tr>\n",
       "      <th>18276</th>\n",
       "      <td>0</td>\n",
       "      <td>0</td>\n",
       "      <td>0</td>\n",
       "      <td>0</td>\n",
       "      <td>0</td>\n",
       "      <td>0</td>\n",
       "    </tr>\n",
       "    <tr>\n",
       "      <th>18277</th>\n",
       "      <td>0</td>\n",
       "      <td>0</td>\n",
       "      <td>0</td>\n",
       "      <td>0</td>\n",
       "      <td>0</td>\n",
       "      <td>0</td>\n",
       "    </tr>\n",
       "    <tr>\n",
       "      <th>18282</th>\n",
       "      <td>0</td>\n",
       "      <td>0</td>\n",
       "      <td>0</td>\n",
       "      <td>0</td>\n",
       "      <td>0</td>\n",
       "      <td>1</td>\n",
       "    </tr>\n",
       "    <tr>\n",
       "      <th>18283</th>\n",
       "      <td>0</td>\n",
       "      <td>0</td>\n",
       "      <td>1</td>\n",
       "      <td>1</td>\n",
       "      <td>0</td>\n",
       "      <td>1</td>\n",
       "    </tr>\n",
       "    <tr>\n",
       "      <th>18287</th>\n",
       "      <td>0</td>\n",
       "      <td>0</td>\n",
       "      <td>0</td>\n",
       "      <td>0</td>\n",
       "      <td>0</td>\n",
       "      <td>1</td>\n",
       "    </tr>\n",
       "  </tbody>\n",
       "</table>\n",
       "<p>2991 rows × 6 columns</p>\n",
       "</div>"
      ],
      "text/plain": [
       "            SumPrice                                           \n",
       "DateDiffBin   (0, 3] (3, 7] (7, 30] (30, 60] (60, 90] (90, 180]\n",
       "CustomerID                                                     \n",
       "12347              0      0       0        1        0         1\n",
       "12348              0      0       0        1        0         1\n",
       "12352              0      0       1        1        0         0\n",
       "12356              0      0       0        0        1         0\n",
       "12358              0      0       0        0        0         1\n",
       "...              ...    ...     ...      ...      ...       ...\n",
       "18276              0      0       0        0        0         0\n",
       "18277              0      0       0        0        0         0\n",
       "18282              0      0       0        0        0         1\n",
       "18283              0      0       1        1        0         1\n",
       "18287              0      0       0        0        0         1\n",
       "\n",
       "[2991 rows x 6 columns]"
      ]
     },
     "execution_count": 166,
     "metadata": {},
     "output_type": "execute_result"
    }
   ],
   "source": [
    "retention_pivot_trans = retention_pivot.fillna(0).applymap(lambda x:1 if x > 0 else 0)\n",
    "retention_pivot_trans"
   ]
  },
  {
   "cell_type": "markdown",
   "id": "0dc71610",
   "metadata": {},
   "source": [
    "Drop the customerId which the entire row is 0. Because these customerId is the customers who have only spent once."
   ]
  },
  {
   "cell_type": "code",
   "execution_count": 176,
   "id": "4d7040b9",
   "metadata": {},
   "outputs": [],
   "source": [
    "customer_retention.drop(customer_retention[customer_retention.DateDiff==0].index,inplace=True)"
   ]
  },
  {
   "cell_type": "code",
   "execution_count": 178,
   "id": "4f2f5f1b",
   "metadata": {},
   "outputs": [
    {
     "data": {
      "text/plain": [
       "(90, 180]    76333\n",
       "(30, 60]     29066\n",
       "(60, 90]     26449\n",
       "(7, 30]      18577\n",
       "(3, 7]        4128\n",
       "(0, 3]        1855\n",
       "Name: DateDiffBin, dtype: int64"
      ]
     },
     "execution_count": 178,
     "metadata": {},
     "output_type": "execute_result"
    }
   ],
   "source": [
    "date_bins = [0, 3, 7, 30, 60, 90, 180]\n",
    "customer_retention['DateDiffBin'] = pd.cut(customer_retention.DateDiff, bins = date_bins)\n",
    "customer_retention['DateDiffBin'].value_counts()"
   ]
  },
  {
   "cell_type": "code",
   "execution_count": 179,
   "id": "5b043c84",
   "metadata": {
    "scrolled": true
   },
   "outputs": [
    {
     "data": {
      "text/html": [
       "<div>\n",
       "<style scoped>\n",
       "    .dataframe tbody tr th:only-of-type {\n",
       "        vertical-align: middle;\n",
       "    }\n",
       "\n",
       "    .dataframe tbody tr th {\n",
       "        vertical-align: top;\n",
       "    }\n",
       "\n",
       "    .dataframe thead tr th {\n",
       "        text-align: left;\n",
       "    }\n",
       "\n",
       "    .dataframe thead tr:last-of-type th {\n",
       "        text-align: right;\n",
       "    }\n",
       "</style>\n",
       "<table border=\"1\" class=\"dataframe\">\n",
       "  <thead>\n",
       "    <tr>\n",
       "      <th></th>\n",
       "      <th colspan=\"6\" halign=\"left\">SumPrice</th>\n",
       "    </tr>\n",
       "    <tr>\n",
       "      <th>DateDiffBin</th>\n",
       "      <th>(0, 3]</th>\n",
       "      <th>(3, 7]</th>\n",
       "      <th>(7, 30]</th>\n",
       "      <th>(30, 60]</th>\n",
       "      <th>(60, 90]</th>\n",
       "      <th>(90, 180]</th>\n",
       "    </tr>\n",
       "    <tr>\n",
       "      <th>CustomerID</th>\n",
       "      <th></th>\n",
       "      <th></th>\n",
       "      <th></th>\n",
       "      <th></th>\n",
       "      <th></th>\n",
       "      <th></th>\n",
       "    </tr>\n",
       "  </thead>\n",
       "  <tbody>\n",
       "    <tr>\n",
       "      <th>12347</th>\n",
       "      <td>0</td>\n",
       "      <td>0</td>\n",
       "      <td>0</td>\n",
       "      <td>1</td>\n",
       "      <td>0</td>\n",
       "      <td>1</td>\n",
       "    </tr>\n",
       "    <tr>\n",
       "      <th>12348</th>\n",
       "      <td>0</td>\n",
       "      <td>0</td>\n",
       "      <td>0</td>\n",
       "      <td>1</td>\n",
       "      <td>0</td>\n",
       "      <td>1</td>\n",
       "    </tr>\n",
       "    <tr>\n",
       "      <th>12352</th>\n",
       "      <td>0</td>\n",
       "      <td>0</td>\n",
       "      <td>1</td>\n",
       "      <td>1</td>\n",
       "      <td>0</td>\n",
       "      <td>0</td>\n",
       "    </tr>\n",
       "    <tr>\n",
       "      <th>12356</th>\n",
       "      <td>0</td>\n",
       "      <td>0</td>\n",
       "      <td>0</td>\n",
       "      <td>0</td>\n",
       "      <td>1</td>\n",
       "      <td>0</td>\n",
       "    </tr>\n",
       "    <tr>\n",
       "      <th>12358</th>\n",
       "      <td>0</td>\n",
       "      <td>0</td>\n",
       "      <td>0</td>\n",
       "      <td>0</td>\n",
       "      <td>0</td>\n",
       "      <td>1</td>\n",
       "    </tr>\n",
       "    <tr>\n",
       "      <th>...</th>\n",
       "      <td>...</td>\n",
       "      <td>...</td>\n",
       "      <td>...</td>\n",
       "      <td>...</td>\n",
       "      <td>...</td>\n",
       "      <td>...</td>\n",
       "    </tr>\n",
       "    <tr>\n",
       "      <th>18276</th>\n",
       "      <td>0</td>\n",
       "      <td>0</td>\n",
       "      <td>0</td>\n",
       "      <td>0</td>\n",
       "      <td>0</td>\n",
       "      <td>0</td>\n",
       "    </tr>\n",
       "    <tr>\n",
       "      <th>18277</th>\n",
       "      <td>0</td>\n",
       "      <td>0</td>\n",
       "      <td>0</td>\n",
       "      <td>0</td>\n",
       "      <td>0</td>\n",
       "      <td>0</td>\n",
       "    </tr>\n",
       "    <tr>\n",
       "      <th>18282</th>\n",
       "      <td>0</td>\n",
       "      <td>0</td>\n",
       "      <td>0</td>\n",
       "      <td>0</td>\n",
       "      <td>0</td>\n",
       "      <td>1</td>\n",
       "    </tr>\n",
       "    <tr>\n",
       "      <th>18283</th>\n",
       "      <td>0</td>\n",
       "      <td>0</td>\n",
       "      <td>1</td>\n",
       "      <td>1</td>\n",
       "      <td>0</td>\n",
       "      <td>1</td>\n",
       "    </tr>\n",
       "    <tr>\n",
       "      <th>18287</th>\n",
       "      <td>0</td>\n",
       "      <td>0</td>\n",
       "      <td>0</td>\n",
       "      <td>0</td>\n",
       "      <td>0</td>\n",
       "      <td>1</td>\n",
       "    </tr>\n",
       "  </tbody>\n",
       "</table>\n",
       "<p>2991 rows × 6 columns</p>\n",
       "</div>"
      ],
      "text/plain": [
       "            SumPrice                                           \n",
       "DateDiffBin   (0, 3] (3, 7] (7, 30] (30, 60] (60, 90] (90, 180]\n",
       "CustomerID                                                     \n",
       "12347              0      0       0        1        0         1\n",
       "12348              0      0       0        1        0         1\n",
       "12352              0      0       1        1        0         0\n",
       "12356              0      0       0        0        1         0\n",
       "12358              0      0       0        0        0         1\n",
       "...              ...    ...     ...      ...      ...       ...\n",
       "18276              0      0       0        0        0         0\n",
       "18277              0      0       0        0        0         0\n",
       "18282              0      0       0        0        0         1\n",
       "18283              0      0       1        1        0         1\n",
       "18287              0      0       0        0        0         1\n",
       "\n",
       "[2991 rows x 6 columns]"
      ]
     },
     "execution_count": 179,
     "metadata": {},
     "output_type": "execute_result"
    }
   ],
   "source": [
    "retention_pivot = customer_retention.pivot_table(index = ['CustomerID'], columns = ['DateDiffBin'], values = ['SumPrice'], aggfunc= np.sum)\n",
    "retention_pivot_trans = retention_pivot.fillna(0).applymap(lambda x:1 if x > 0 else 0)\n",
    "retention_pivot_trans"
   ]
  },
  {
   "cell_type": "code",
   "execution_count": 180,
   "id": "a319b3cb",
   "metadata": {
    "scrolled": true
   },
   "outputs": [
    {
     "data": {
      "text/plain": [
       "          DateDiffBin\n",
       "SumPrice  (0, 3]         0.027416\n",
       "          (3, 7]         0.054162\n",
       "          (7, 30]        0.220996\n",
       "          (30, 60]       0.330659\n",
       "          (60, 90]       0.304246\n",
       "          (90, 180]      0.560348\n",
       "dtype: float64"
      ]
     },
     "execution_count": 180,
     "metadata": {},
     "output_type": "execute_result"
    }
   ],
   "source": [
    "retention_df=(retention_pivot_trans.sum()/ retention_pivot_trans.count())\n",
    "retention_df"
   ]
  },
  {
   "cell_type": "code",
   "execution_count": 182,
   "id": "7ec77d17",
   "metadata": {},
   "outputs": [
    {
     "data": {
      "text/plain": [
       "          DateDiffBin\n",
       "SumPrice  (0, 3]         2991\n",
       "          (3, 7]         2991\n",
       "          (7, 30]        2991\n",
       "          (30, 60]       2991\n",
       "          (60, 90]       2991\n",
       "          (90, 180]      2991\n",
       "dtype: int64"
      ]
     },
     "execution_count": 182,
     "metadata": {},
     "output_type": "execute_result"
    }
   ],
   "source": [
    "retention_pivot_trans.count()"
   ]
  },
  {
   "cell_type": "code",
   "execution_count": 168,
   "id": "9bbc9415",
   "metadata": {},
   "outputs": [
    {
     "data": {
      "text/plain": [
       "0.3158737419945105"
      ]
     },
     "execution_count": 168,
     "metadata": {},
     "output_type": "execute_result"
    }
   ],
   "source": [
    "(4372-2991)/4372"
   ]
  },
  {
   "cell_type": "markdown",
   "id": "8715d299",
   "metadata": {},
   "source": [
    "Among these regular customers, only 2.7% made a purchase within the next day to three days of their first purchase, and 5.4% made a purchase within four to seven days. 22.1% and 33.1% of the customers made purchases in the second and third month after the first purchase, respectively. The time frame continues to be widened, with up to 56% of customers making purchases within 90 days to six months. This shows that the customer group of the e-commerce website, its purchasing behavior is not high frequency, but the remaining old customers are very loyal. **Combined with the above, customers who only purchase for the first time account for 31.6% of the total customers. If we can improve the retention rate of this group, it will bring high profits.**"
   ]
  },
  {
   "cell_type": "markdown",
   "id": "3517bd1e",
   "metadata": {},
   "source": [
    "## 3. Summary\n",
    "\n",
    "#### 3.1 Order Dimension:\n",
    "The total number of valid orders was 18,532, with a unit price of £479.56 and a joint rate of about 278. Orders are mainly wholesale, and there are large differences between orders, with some customers with strong purchasing power. Generally speaking, the order transaction amount is positively correlated with the number of goods in the order.\n",
    "\n",
    "\n",
    "\n",
    "#### 3.2 Customer Dimensions:\n",
    "The unit price of the customer is 2049 pounds. There is a big gap in the purchasing power of the customer, and there are a certain number of customers with strong spending power. The customer group is relatively healthy, and the consumption amount is positively correlated with the quantity of goods purchased, and the regularity is stronger than the order.\n",
    "\n",
    "\n",
    "\n",
    "#### 3.3 Commodity Dimension:\n",
    "The unit price of goods will fluctuate, concentrated in 1-2 pounds, positioning is mainly low price small goods market. Items under ￡5 are most popular with customers and make up the bulk of sales. High-priced items, although expensive, sell in low volumes and don't bring in much sales. It is suggested that the procurement department of the platform can select more products priced below 10 pounds to further expand the category of low-price area.\n",
    "\n",
    "\n",
    "\n",
    "#### 3.4 Life Cycle:\n",
    "The average life cycle is 133 days, and the distribution of life cycle is polarized. The average life cycle of customers who spend twice or more is 203 days. It is suggested that more attention should be paid to customers' initial consumption experience. It can be considered to learn the dissatisfaction of new customers in the purchase process through service evaluation on the website and customer service telephone inquiry, and improve accordingly. And put more effort into getting them to re-spend, such as giving time-limited coupons.\n",
    "\n",
    "\n",
    "\n",
    "#### 3.5 Retention:\n",
    "The purchasing of customer groups is not a frequent behavior, but the remaining old customers are very loyal. However, first-time buyers account for 37.5% of the total customers, and if we can improve the retention rate of this group, it will bring great benefits.\n",
    "\n",
    "\n"
   ]
  },
  {
   "cell_type": "code",
   "execution_count": null,
   "id": "029c97a7",
   "metadata": {},
   "outputs": [],
   "source": []
  }
 ],
 "metadata": {
  "kernelspec": {
   "display_name": "Python 3 (ipykernel)",
   "language": "python",
   "name": "python3"
  },
  "language_info": {
   "codemirror_mode": {
    "name": "ipython",
    "version": 3
   },
   "file_extension": ".py",
   "mimetype": "text/x-python",
   "name": "python",
   "nbconvert_exporter": "python",
   "pygments_lexer": "ipython3",
   "version": "3.9.7"
  }
 },
 "nbformat": 4,
 "nbformat_minor": 5
}
